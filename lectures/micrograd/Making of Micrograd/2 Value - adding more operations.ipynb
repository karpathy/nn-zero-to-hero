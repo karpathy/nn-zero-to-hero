{
 "cells": [
  {
   "cell_type": "code",
   "execution_count": 1,
   "id": "9ee4e5ae",
   "metadata": {},
   "outputs": [],
   "source": [
    "import numpy as np\n",
    "import matplotlib.pyplot as plt\n",
    "import math\n",
    "import torch"
   ]
  },
  {
   "cell_type": "code",
   "execution_count": 2,
   "id": "f31c76f8",
   "metadata": {},
   "outputs": [],
   "source": [
    "from graphviz import Digraph\n",
    "\n",
    "def trace(root):\n",
    "    # builds a set of all nodes and edges in graph\n",
    "    nodes, edges = set(), set()\n",
    "    def build(v):\n",
    "        if v not in nodes:\n",
    "            nodes.add(v)\n",
    "            for child in v._prev:\n",
    "                edges.add((child, v))\n",
    "                build(child)\n",
    "    build(root)\n",
    "    return nodes, edges\n",
    "\n",
    "def draw_dot(root):\n",
    "    dot = Digraph(format='svg', graph_attr={'rankdir': 'LR'}) # LR = left to right, TB = Top to Bottom\n",
    "\n",
    "    nodes, edges = trace(root)\n",
    "    for n in nodes:\n",
    "        uid = str(id(n))\n",
    "        # for any value in the graph, create a rectangular ('record') node for it\n",
    "        dot.node(name = uid, label = \"{ %s | data %.4f | grad %.4f }\" % (n.label, n.data, n.grad ), shape='record')\n",
    "        if n._op:\n",
    "            # if this value is result of some operation , create an op node for it\n",
    "            dot.node(name = uid + n._op, label = n._op)\n",
    "            # and connect this node to it\n",
    "            dot.edge(uid + n._op, uid)\n",
    "            \n",
    "    for n1, n2 in edges:\n",
    "        # connect n1 node to op node of n2\n",
    "        dot.edge(str(id(n1)), str(id(n2)) + n2._op)\n",
    "    \n",
    "    return dot"
   ]
  },
  {
   "cell_type": "markdown",
   "id": "0f768659",
   "metadata": {},
   "source": [
    "### - Breaking up a `tanh` function\n",
    "### - Adding more operations"
   ]
  },
  {
   "cell_type": "code",
   "execution_count": 3,
   "id": "69653b74",
   "metadata": {},
   "outputs": [],
   "source": [
    "class Value:\n",
    "    \n",
    "    def __init__( self, data, _children=(), _operation='', label='' ):\n",
    "        self.data = data\n",
    "        self.grad = 0.0\n",
    "        self._prev = set(_children)\n",
    "        self._op = _operation\n",
    "        self._backward = lambda: None \n",
    "        self.label = label\n",
    "        \n",
    "    def __repr__(self):\n",
    "        return f\"Value(data={self.data})\"\n",
    "    \n",
    "    def __add__(self, otherObj):\n",
    "        # Ensure that `otherObj` is of type `Value`, \n",
    "        # if not, create a new `Value` object with `otherObj` as its value\n",
    "        otherObj = otherObj if isinstance(otherObj, Value) else Value(otherObj)\n",
    "        out = Value(self.data + otherObj.data, (self, otherObj), '+' )\n",
    "        def _backward():\n",
    "            self.grad += 1.0 * out.grad\n",
    "            otherObj.grad += 1.0 * out.grad\n",
    "        out._backward = _backward \n",
    "        return out\n",
    "    \n",
    "    def __mul__(self, otherObj):\n",
    "        # Ensure that `otherObj` is of type `Value`, \n",
    "        # if not, create a new `Value` object with `otherObj` as its value\n",
    "        otherObj = otherObj if isinstance(otherObj, Value) else Value(otherObj)\n",
    "        out = Value(self.data * otherObj.data, (self, otherObj), '*')\n",
    "        def _backward():\n",
    "            self.grad += otherObj.data * out.grad\n",
    "            otherObj.grad += self.data * out.grad\n",
    "        out._backward = _backward \n",
    "        return out\n",
    "        \n",
    "    def tanh(self):\n",
    "        x = self.data\n",
    "        t = (math.exp(2*x) - 1) / (math.exp(2*x) + 1)\n",
    "        out = Value(t, (self, ),'tanh')\n",
    "        def _backward():\n",
    "            self.grad += (1 - t**2) * out.grad\n",
    "        out._backward = _backward \n",
    "        return out\n",
    "    \n",
    "    def backward(self):\n",
    "        topo = []\n",
    "        visited = set()\n",
    "        def build_topo(v):\n",
    "            if v not in visited:\n",
    "                visited.add(v)\n",
    "                for child in v._prev:\n",
    "                    build_topo(child)\n",
    "                topo.append(v)\n",
    "        build_topo(self)\n",
    "        self.grad = 1.0 \n",
    "        for node in reversed(topo):\n",
    "            node._backward()"
   ]
  },
  {
   "cell_type": "code",
   "execution_count": 4,
   "id": "7a458fa1",
   "metadata": {},
   "outputs": [
    {
     "name": "stdout",
     "output_type": "stream",
     "text": [
      "Value(data=15)\n"
     ]
    }
   ],
   "source": [
    "a = Value(5)\n",
    "b = Value(10)\n",
    "print(a+b)"
   ]
  },
  {
   "cell_type": "code",
   "execution_count": 5,
   "id": "e331079d",
   "metadata": {},
   "outputs": [
    {
     "name": "stdout",
     "output_type": "stream",
     "text": [
      "Value(data=15)\n",
      "Value(data=4587)\n"
     ]
    }
   ],
   "source": [
    "print(a + 10)\n",
    "print(a + 4582)"
   ]
  },
  {
   "cell_type": "code",
   "execution_count": 6,
   "id": "1eb44fea",
   "metadata": {},
   "outputs": [
    {
     "data": {
      "image/svg+xml": [
       "<?xml version=\"1.0\" encoding=\"UTF-8\" standalone=\"no\"?>\n",
       "<!DOCTYPE svg PUBLIC \"-//W3C//DTD SVG 1.1//EN\"\n",
       " \"http://www.w3.org/Graphics/SVG/1.1/DTD/svg11.dtd\">\n",
       "<!-- Generated by graphviz version 10.0.1 (20240210.2158)\n",
       " -->\n",
       "<!-- Pages: 1 -->\n",
       "<svg width=\"512pt\" height=\"100pt\"\n",
       " viewBox=\"0.00 0.00 512.00 100.00\" xmlns=\"http://www.w3.org/2000/svg\" xmlns:xlink=\"http://www.w3.org/1999/xlink\">\n",
       "<g id=\"graph0\" class=\"graph\" transform=\"scale(1 1) rotate(0) translate(4 96)\">\n",
       "<polygon fill=\"white\" stroke=\"none\" points=\"-4,4 -4,-96 508,-96 508,4 -4,4\"/>\n",
       "<!-- 2161342388768 -->\n",
       "<g id=\"node1\" class=\"node\">\n",
       "<title>2161342388768</title>\n",
       "<polygon fill=\"none\" stroke=\"black\" points=\"315,-27.5 315,-63.5 504,-63.5 504,-27.5 315,-27.5\"/>\n",
       "<text text-anchor=\"middle\" x=\"324.88\" y=\"-40.2\" font-family=\"Times New Roman,serif\" font-size=\"14.00\"> </text>\n",
       "<polyline fill=\"none\" stroke=\"black\" points=\"334.75,-27.75 334.75,-63.5\"/>\n",
       "<text text-anchor=\"middle\" x=\"378.38\" y=\"-40.2\" font-family=\"Times New Roman,serif\" font-size=\"14.00\">data 15.0000</text>\n",
       "<polyline fill=\"none\" stroke=\"black\" points=\"422,-27.75 422,-63.5\"/>\n",
       "<text text-anchor=\"middle\" x=\"463\" y=\"-40.2\" font-family=\"Times New Roman,serif\" font-size=\"14.00\">grad 0.0000</text>\n",
       "</g>\n",
       "<!-- 2161342388768+ -->\n",
       "<g id=\"node2\" class=\"node\">\n",
       "<title>2161342388768+</title>\n",
       "<ellipse fill=\"none\" stroke=\"black\" cx=\"252\" cy=\"-45.5\" rx=\"27\" ry=\"18\"/>\n",
       "<text text-anchor=\"middle\" x=\"252\" y=\"-40.08\" font-family=\"Times New Roman,serif\" font-size=\"14.00\">+</text>\n",
       "</g>\n",
       "<!-- 2161342388768+&#45;&gt;2161342388768 -->\n",
       "<g id=\"edge1\" class=\"edge\">\n",
       "<title>2161342388768+&#45;&gt;2161342388768</title>\n",
       "<path fill=\"none\" stroke=\"black\" d=\"M279.38,-45.5C286.51,-45.5 294.68,-45.5 303.37,-45.5\"/>\n",
       "<polygon fill=\"black\" stroke=\"black\" points=\"303.11,-49 313.11,-45.5 303.11,-42 303.11,-49\"/>\n",
       "</g>\n",
       "<!-- 2161342391744 -->\n",
       "<g id=\"node3\" class=\"node\">\n",
       "<title>2161342391744</title>\n",
       "<polygon fill=\"none\" stroke=\"black\" points=\"0,-55.5 0,-91.5 189,-91.5 189,-55.5 0,-55.5\"/>\n",
       "<text text-anchor=\"middle\" x=\"9.88\" y=\"-68.2\" font-family=\"Times New Roman,serif\" font-size=\"14.00\"> </text>\n",
       "<polyline fill=\"none\" stroke=\"black\" points=\"19.75,-55.75 19.75,-91.5\"/>\n",
       "<text text-anchor=\"middle\" x=\"63.38\" y=\"-68.2\" font-family=\"Times New Roman,serif\" font-size=\"14.00\">data 10.0000</text>\n",
       "<polyline fill=\"none\" stroke=\"black\" points=\"107,-55.75 107,-91.5\"/>\n",
       "<text text-anchor=\"middle\" x=\"148\" y=\"-68.2\" font-family=\"Times New Roman,serif\" font-size=\"14.00\">grad 0.0000</text>\n",
       "</g>\n",
       "<!-- 2161342391744&#45;&gt;2161342388768+ -->\n",
       "<g id=\"edge2\" class=\"edge\">\n",
       "<title>2161342391744&#45;&gt;2161342388768+</title>\n",
       "<path fill=\"none\" stroke=\"black\" d=\"M189.1,-56.65C197.98,-55.05 206.58,-53.5 214.39,-52.09\"/>\n",
       "<polygon fill=\"black\" stroke=\"black\" points=\"214.88,-55.56 224.1,-50.34 213.64,-48.67 214.88,-55.56\"/>\n",
       "</g>\n",
       "<!-- 2161342391840 -->\n",
       "<g id=\"node4\" class=\"node\">\n",
       "<title>2161342391840</title>\n",
       "<polygon fill=\"none\" stroke=\"black\" points=\"3.38,-0.5 3.38,-36.5 185.62,-36.5 185.62,-0.5 3.38,-0.5\"/>\n",
       "<text text-anchor=\"middle\" x=\"13.25\" y=\"-13.2\" font-family=\"Times New Roman,serif\" font-size=\"14.00\"> </text>\n",
       "<polyline fill=\"none\" stroke=\"black\" points=\"23.12,-0.75 23.12,-36.5\"/>\n",
       "<text text-anchor=\"middle\" x=\"63.38\" y=\"-13.2\" font-family=\"Times New Roman,serif\" font-size=\"14.00\">data 5.0000</text>\n",
       "<polyline fill=\"none\" stroke=\"black\" points=\"103.62,-0.75 103.62,-36.5\"/>\n",
       "<text text-anchor=\"middle\" x=\"144.62\" y=\"-13.2\" font-family=\"Times New Roman,serif\" font-size=\"14.00\">grad 0.0000</text>\n",
       "</g>\n",
       "<!-- 2161342391840&#45;&gt;2161342388768+ -->\n",
       "<g id=\"edge3\" class=\"edge\">\n",
       "<title>2161342391840&#45;&gt;2161342388768+</title>\n",
       "<path fill=\"none\" stroke=\"black\" d=\"M185.95,-34.21C195.88,-35.93 205.52,-37.6 214.2,-39.11\"/>\n",
       "<polygon fill=\"black\" stroke=\"black\" points=\"213.45,-42.53 223.9,-40.79 214.64,-35.63 213.45,-42.53\"/>\n",
       "</g>\n",
       "</g>\n",
       "</svg>\n"
      ],
      "text/plain": [
       "<graphviz.graphs.Digraph at 0x1f73a0b99c0>"
      ]
     },
     "execution_count": 6,
     "metadata": {},
     "output_type": "execute_result"
    }
   ],
   "source": [
    "draw_dot(a + b)"
   ]
  },
  {
   "cell_type": "code",
   "execution_count": 7,
   "id": "9f8d34ed",
   "metadata": {},
   "outputs": [
    {
     "data": {
      "image/svg+xml": [
       "<?xml version=\"1.0\" encoding=\"UTF-8\" standalone=\"no\"?>\n",
       "<!DOCTYPE svg PUBLIC \"-//W3C//DTD SVG 1.1//EN\"\n",
       " \"http://www.w3.org/Graphics/SVG/1.1/DTD/svg11.dtd\">\n",
       "<!-- Generated by graphviz version 10.0.1 (20240210.2158)\n",
       " -->\n",
       "<!-- Pages: 1 -->\n",
       "<svg width=\"539pt\" height=\"100pt\"\n",
       " viewBox=\"0.00 0.00 539.00 100.00\" xmlns=\"http://www.w3.org/2000/svg\" xmlns:xlink=\"http://www.w3.org/1999/xlink\">\n",
       "<g id=\"graph0\" class=\"graph\" transform=\"scale(1 1) rotate(0) translate(4 96)\">\n",
       "<polygon fill=\"white\" stroke=\"none\" points=\"-4,4 -4,-96 535,-96 535,4 -4,4\"/>\n",
       "<!-- 2161342391840 -->\n",
       "<g id=\"node1\" class=\"node\">\n",
       "<title>2161342391840</title>\n",
       "<polygon fill=\"none\" stroke=\"black\" points=\"10.12,-55.5 10.12,-91.5 192.38,-91.5 192.38,-55.5 10.12,-55.5\"/>\n",
       "<text text-anchor=\"middle\" x=\"20\" y=\"-68.2\" font-family=\"Times New Roman,serif\" font-size=\"14.00\"> </text>\n",
       "<polyline fill=\"none\" stroke=\"black\" points=\"29.88,-55.75 29.88,-91.5\"/>\n",
       "<text text-anchor=\"middle\" x=\"70.12\" y=\"-68.2\" font-family=\"Times New Roman,serif\" font-size=\"14.00\">data 5.0000</text>\n",
       "<polyline fill=\"none\" stroke=\"black\" points=\"110.38,-55.75 110.38,-91.5\"/>\n",
       "<text text-anchor=\"middle\" x=\"151.38\" y=\"-68.2\" font-family=\"Times New Roman,serif\" font-size=\"14.00\">grad 0.0000</text>\n",
       "</g>\n",
       "<!-- 2161342391600+ -->\n",
       "<g id=\"node3\" class=\"node\">\n",
       "<title>2161342391600+</title>\n",
       "<ellipse fill=\"none\" stroke=\"black\" cx=\"265.5\" cy=\"-45.5\" rx=\"27\" ry=\"18\"/>\n",
       "<text text-anchor=\"middle\" x=\"265.5\" y=\"-40.08\" font-family=\"Times New Roman,serif\" font-size=\"14.00\">+</text>\n",
       "</g>\n",
       "<!-- 2161342391840&#45;&gt;2161342391600+ -->\n",
       "<g id=\"edge3\" class=\"edge\">\n",
       "<title>2161342391840&#45;&gt;2161342391600+</title>\n",
       "<path fill=\"none\" stroke=\"black\" d=\"M192.86,-57.86C205.2,-55.73 217.25,-53.65 227.83,-51.83\"/>\n",
       "<polygon fill=\"black\" stroke=\"black\" points=\"228.35,-55.29 237.61,-50.14 227.16,-48.39 228.35,-55.29\"/>\n",
       "</g>\n",
       "<!-- 2161342391600 -->\n",
       "<g id=\"node2\" class=\"node\">\n",
       "<title>2161342391600</title>\n",
       "<polygon fill=\"none\" stroke=\"black\" points=\"328.5,-27.5 328.5,-63.5 531,-63.5 531,-27.5 328.5,-27.5\"/>\n",
       "<text text-anchor=\"middle\" x=\"338.38\" y=\"-40.2\" font-family=\"Times New Roman,serif\" font-size=\"14.00\"> </text>\n",
       "<polyline fill=\"none\" stroke=\"black\" points=\"348.25,-27.75 348.25,-63.5\"/>\n",
       "<text text-anchor=\"middle\" x=\"398.62\" y=\"-40.2\" font-family=\"Times New Roman,serif\" font-size=\"14.00\">data 4587.0000</text>\n",
       "<polyline fill=\"none\" stroke=\"black\" points=\"449,-27.75 449,-63.5\"/>\n",
       "<text text-anchor=\"middle\" x=\"490\" y=\"-40.2\" font-family=\"Times New Roman,serif\" font-size=\"14.00\">grad 0.0000</text>\n",
       "</g>\n",
       "<!-- 2161342391600+&#45;&gt;2161342391600 -->\n",
       "<g id=\"edge1\" class=\"edge\">\n",
       "<title>2161342391600+&#45;&gt;2161342391600</title>\n",
       "<path fill=\"none\" stroke=\"black\" d=\"M292.93,-45.5C300.06,-45.5 308.25,-45.5 317,-45.5\"/>\n",
       "<polygon fill=\"black\" stroke=\"black\" points=\"316.83,-49 326.83,-45.5 316.83,-42 316.83,-49\"/>\n",
       "</g>\n",
       "<!-- 2161342383920 -->\n",
       "<g id=\"node4\" class=\"node\">\n",
       "<title>2161342383920</title>\n",
       "<polygon fill=\"none\" stroke=\"black\" points=\"0,-0.5 0,-36.5 202.5,-36.5 202.5,-0.5 0,-0.5\"/>\n",
       "<text text-anchor=\"middle\" x=\"9.88\" y=\"-13.2\" font-family=\"Times New Roman,serif\" font-size=\"14.00\"> </text>\n",
       "<polyline fill=\"none\" stroke=\"black\" points=\"19.75,-0.75 19.75,-36.5\"/>\n",
       "<text text-anchor=\"middle\" x=\"70.12\" y=\"-13.2\" font-family=\"Times New Roman,serif\" font-size=\"14.00\">data 4582.0000</text>\n",
       "<polyline fill=\"none\" stroke=\"black\" points=\"120.5,-0.75 120.5,-36.5\"/>\n",
       "<text text-anchor=\"middle\" x=\"161.5\" y=\"-13.2\" font-family=\"Times New Roman,serif\" font-size=\"14.00\">grad 0.0000</text>\n",
       "</g>\n",
       "<!-- 2161342383920&#45;&gt;2161342391600+ -->\n",
       "<g id=\"edge2\" class=\"edge\">\n",
       "<title>2161342383920&#45;&gt;2161342391600+</title>\n",
       "<path fill=\"none\" stroke=\"black\" d=\"M202.7,-35.22C211.57,-36.69 220.11,-38.11 227.86,-39.4\"/>\n",
       "<polygon fill=\"black\" stroke=\"black\" points=\"227.04,-42.81 237.48,-41 228.19,-35.91 227.04,-42.81\"/>\n",
       "</g>\n",
       "</g>\n",
       "</svg>\n"
      ],
      "text/plain": [
       "<graphviz.graphs.Digraph at 0x1f73a0b8a90>"
      ]
     },
     "execution_count": 7,
     "metadata": {},
     "output_type": "execute_result"
    }
   ],
   "source": [
    "draw_dot(a + 4582 )"
   ]
  },
  {
   "cell_type": "code",
   "execution_count": null,
   "id": "5bf5785a",
   "metadata": {},
   "outputs": [],
   "source": []
  },
  {
   "cell_type": "code",
   "execution_count": 8,
   "id": "5fa024f7",
   "metadata": {},
   "outputs": [
    {
     "name": "stdout",
     "output_type": "stream",
     "text": [
      "Value(data=25)\n"
     ]
    },
    {
     "data": {
      "image/svg+xml": [
       "<?xml version=\"1.0\" encoding=\"UTF-8\" standalone=\"no\"?>\n",
       "<!DOCTYPE svg PUBLIC \"-//W3C//DTD SVG 1.1//EN\"\n",
       " \"http://www.w3.org/Graphics/SVG/1.1/DTD/svg11.dtd\">\n",
       "<!-- Generated by graphviz version 10.0.1 (20240210.2158)\n",
       " -->\n",
       "<!-- Pages: 1 -->\n",
       "<svg width=\"505pt\" height=\"100pt\"\n",
       " viewBox=\"0.00 0.00 505.25 100.00\" xmlns=\"http://www.w3.org/2000/svg\" xmlns:xlink=\"http://www.w3.org/1999/xlink\">\n",
       "<g id=\"graph0\" class=\"graph\" transform=\"scale(1 1) rotate(0) translate(4 96)\">\n",
       "<polygon fill=\"white\" stroke=\"none\" points=\"-4,4 -4,-96 501.25,-96 501.25,4 -4,4\"/>\n",
       "<!-- 2161342393856 -->\n",
       "<g id=\"node1\" class=\"node\">\n",
       "<title>2161342393856</title>\n",
       "<polygon fill=\"none\" stroke=\"black\" points=\"0,-55.5 0,-91.5 182.25,-91.5 182.25,-55.5 0,-55.5\"/>\n",
       "<text text-anchor=\"middle\" x=\"9.88\" y=\"-68.2\" font-family=\"Times New Roman,serif\" font-size=\"14.00\"> </text>\n",
       "<polyline fill=\"none\" stroke=\"black\" points=\"19.75,-55.75 19.75,-91.5\"/>\n",
       "<text text-anchor=\"middle\" x=\"60\" y=\"-68.2\" font-family=\"Times New Roman,serif\" font-size=\"14.00\">data 5.0000</text>\n",
       "<polyline fill=\"none\" stroke=\"black\" points=\"100.25,-55.75 100.25,-91.5\"/>\n",
       "<text text-anchor=\"middle\" x=\"141.25\" y=\"-68.2\" font-family=\"Times New Roman,serif\" font-size=\"14.00\">grad 0.0000</text>\n",
       "</g>\n",
       "<!-- 2161342391408* -->\n",
       "<g id=\"node4\" class=\"node\">\n",
       "<title>2161342391408*</title>\n",
       "<ellipse fill=\"none\" stroke=\"black\" cx=\"245.25\" cy=\"-45.5\" rx=\"27\" ry=\"18\"/>\n",
       "<text text-anchor=\"middle\" x=\"245.25\" y=\"-40.08\" font-family=\"Times New Roman,serif\" font-size=\"14.00\">*</text>\n",
       "</g>\n",
       "<!-- 2161342393856&#45;&gt;2161342391408* -->\n",
       "<g id=\"edge3\" class=\"edge\">\n",
       "<title>2161342393856&#45;&gt;2161342391408*</title>\n",
       "<path fill=\"none\" stroke=\"black\" d=\"M182.37,-56.89C191.21,-55.26 199.78,-53.68 207.59,-52.25\"/>\n",
       "<polygon fill=\"black\" stroke=\"black\" points=\"208.1,-55.71 217.3,-50.46 206.83,-48.83 208.1,-55.71\"/>\n",
       "</g>\n",
       "<!-- 2161342391840 -->\n",
       "<g id=\"node2\" class=\"node\">\n",
       "<title>2161342391840</title>\n",
       "<polygon fill=\"none\" stroke=\"black\" points=\"0,-0.5 0,-36.5 182.25,-36.5 182.25,-0.5 0,-0.5\"/>\n",
       "<text text-anchor=\"middle\" x=\"9.88\" y=\"-13.2\" font-family=\"Times New Roman,serif\" font-size=\"14.00\"> </text>\n",
       "<polyline fill=\"none\" stroke=\"black\" points=\"19.75,-0.75 19.75,-36.5\"/>\n",
       "<text text-anchor=\"middle\" x=\"60\" y=\"-13.2\" font-family=\"Times New Roman,serif\" font-size=\"14.00\">data 5.0000</text>\n",
       "<polyline fill=\"none\" stroke=\"black\" points=\"100.25,-0.75 100.25,-36.5\"/>\n",
       "<text text-anchor=\"middle\" x=\"141.25\" y=\"-13.2\" font-family=\"Times New Roman,serif\" font-size=\"14.00\">grad 0.0000</text>\n",
       "</g>\n",
       "<!-- 2161342391840&#45;&gt;2161342391408* -->\n",
       "<g id=\"edge2\" class=\"edge\">\n",
       "<title>2161342391840&#45;&gt;2161342391408*</title>\n",
       "<path fill=\"none\" stroke=\"black\" d=\"M182.37,-34.52C191.21,-36.09 199.78,-37.61 207.59,-38.99\"/>\n",
       "<polygon fill=\"black\" stroke=\"black\" points=\"206.84,-42.41 217.3,-40.72 208.06,-35.52 206.84,-42.41\"/>\n",
       "</g>\n",
       "<!-- 2161342391408 -->\n",
       "<g id=\"node3\" class=\"node\">\n",
       "<title>2161342391408</title>\n",
       "<polygon fill=\"none\" stroke=\"black\" points=\"308.25,-27.5 308.25,-63.5 497.25,-63.5 497.25,-27.5 308.25,-27.5\"/>\n",
       "<text text-anchor=\"middle\" x=\"318.12\" y=\"-40.2\" font-family=\"Times New Roman,serif\" font-size=\"14.00\"> </text>\n",
       "<polyline fill=\"none\" stroke=\"black\" points=\"328,-27.75 328,-63.5\"/>\n",
       "<text text-anchor=\"middle\" x=\"371.62\" y=\"-40.2\" font-family=\"Times New Roman,serif\" font-size=\"14.00\">data 25.0000</text>\n",
       "<polyline fill=\"none\" stroke=\"black\" points=\"415.25,-27.75 415.25,-63.5\"/>\n",
       "<text text-anchor=\"middle\" x=\"456.25\" y=\"-40.2\" font-family=\"Times New Roman,serif\" font-size=\"14.00\">grad 0.0000</text>\n",
       "</g>\n",
       "<!-- 2161342391408*&#45;&gt;2161342391408 -->\n",
       "<g id=\"edge1\" class=\"edge\">\n",
       "<title>2161342391408*&#45;&gt;2161342391408</title>\n",
       "<path fill=\"none\" stroke=\"black\" d=\"M272.63,-45.5C279.76,-45.5 287.93,-45.5 296.62,-45.5\"/>\n",
       "<polygon fill=\"black\" stroke=\"black\" points=\"296.36,-49 306.36,-45.5 296.36,-42 296.36,-49\"/>\n",
       "</g>\n",
       "</g>\n",
       "</svg>\n"
      ],
      "text/plain": [
       "<graphviz.graphs.Digraph at 0x1f73a0b8b80>"
      ]
     },
     "execution_count": 8,
     "metadata": {},
     "output_type": "execute_result"
    }
   ],
   "source": [
    "print(a * 5)\n",
    "draw_dot(a*5)"
   ]
  },
  {
   "cell_type": "code",
   "execution_count": null,
   "id": "20c4ae8e",
   "metadata": {},
   "outputs": [],
   "source": []
  },
  {
   "cell_type": "code",
   "execution_count": 9,
   "id": "125e5d97",
   "metadata": {},
   "outputs": [],
   "source": [
    "# reverse doesn't work\n",
    "# 5 * a\n",
    "\n",
    "# TypeError: unsupported operand type(s) for *: 'int' and 'Value'"
   ]
  },
  {
   "cell_type": "markdown",
   "id": "8ffc7886",
   "metadata": {},
   "source": [
    "### Special Methods for Arithmetic Operations in Python\n",
    "\n",
    "Python provides special methods, often referred to as \"magic methods\" or \"dunder methods\" (short for \"double underscore\"), to define the behavior of built-in operators like addition (`+`), multiplication (`*`), etc., for user-defined objects. These methods enable custom objects to support arithmetic operations seamlessly.\n",
    "\n",
    "#### Right-Hand Arithmetic Operations:\n",
    "\n",
    "1. **`__radd__(self, other)`**: This method defines the behavior of the right-hand addition operation (`+`) when the left operand does not support the operation. It is called when the object appears on the right side of the `+` operator.\n",
    "   \n",
    "2. **`__rsub__(self, other)`**: Defines the behavior of the right-hand subtraction operation (`-`).\n",
    "\n",
    "3. **`__rmul__(self, other)`**: Defines the behavior of the right-hand multiplication operation (`*`).\n",
    "\n",
    "4. **`__rdiv__(self, other)`**: Defines the behavior of the right-hand division operation (`/`).\n",
    "\n",
    "5. **`__rmod__(self, other)`**: Defines the behavior of the right-hand modulo operation (`%`).\n",
    "\n",
    "#### Right-Hand Arithmetic Operations:\n",
    "\n",
    "1. **`__rmul__(self, otherObj)`**: This method defines the behavior of the right-hand multiplication operation (`*`). It is called when the object appears on the right side of the `*` operator, and the left operand does not support the operation.\n",
    "\n",
    "2. **`__mul__(self, otherObj)`**: This method defines the behavior of the left-hand multiplication operation (`*`). It is called when the object appears on the left side of the `*` operator, or when both operands support the operation.\n",
    "\n",
    "#### Usage Example:\n",
    "\n",
    "```python\n",
    "class Value:\n",
    "    def __init__(self, data):\n",
    "        self.data = data\n",
    "\n",
    "    def __rmul__(self, otherObj):\n",
    "        return Value(self.data * otherObj)\n",
    "\n",
    "    def __mul__(self, otherObj):\n",
    "        return Value(self.data * otherObj)\n",
    "\n",
    "a = Value(5)\n",
    "b = 3\n",
    "\n",
    "result1 = a * b  # Calls a.__mul__(b), returns a new instance of Value with data 15\n",
    "result2 = b * a  # Calls a.__rmul__(b), returns a new instance of Value with data 15\n",
    "\n",
    "print(result1.data)  # Output: 15\n",
    "print(result2.data)  # Output: 15\n",
    "```"
   ]
  },
  {
   "cell_type": "markdown",
   "id": "960de8e4",
   "metadata": {},
   "source": [
    "---"
   ]
  },
  {
   "cell_type": "code",
   "execution_count": 10,
   "id": "917d39b5",
   "metadata": {},
   "outputs": [],
   "source": [
    "class Value:\n",
    "    \n",
    "    def __init__( self, data, _children=(), _operation='', label='' ):\n",
    "        self.data = data\n",
    "        self.grad = 0.0\n",
    "        self._prev = set(_children)\n",
    "        self._op = _operation\n",
    "        self._backward = lambda: None \n",
    "        self.label = label\n",
    "        \n",
    "    def __repr__(self):\n",
    "        return f\"Value(data={self.data})\"\n",
    "    \n",
    "    def __add__(self, otherObj):\n",
    "        otherObj = otherObj if isinstance(otherObj, Value) else Value(otherObj)\n",
    "        out = Value(self.data + otherObj.data, (self, otherObj), '+' )\n",
    "        def _backward():\n",
    "            self.grad += 1.0 * out.grad\n",
    "            otherObj.grad += 1.0 * out.grad\n",
    "        out._backward = _backward \n",
    "        return out\n",
    "    \n",
    "    # Right-Hand Arithmetic Operation\n",
    "    def __radd__(self, otherObj):\n",
    "        return self+otherObj\n",
    "    \n",
    "    def __mul__(self, otherObj):\n",
    "        otherObj = otherObj if isinstance(otherObj, Value) else Value(otherObj)\n",
    "        out = Value(self.data * otherObj.data, (self, otherObj), '*')\n",
    "        def _backward():\n",
    "            self.grad += otherObj.data * out.grad\n",
    "            otherObj.grad += self.data * out.grad\n",
    "        out._backward = _backward \n",
    "        return out\n",
    "    \n",
    "    # Right-Hand Arithmetic Operation\n",
    "    def __rmul__(self, otherObj):\n",
    "        return self*otherObj\n",
    "    \n",
    "    def tanh(self):\n",
    "        x = self.data\n",
    "        t = (math.exp(2*x) - 1) / (math.exp(2*x) + 1)\n",
    "        out = Value(t, (self, ),'tanh')\n",
    "        def _backward():\n",
    "            self.grad += (1 - t**2) * out.grad\n",
    "        out._backward = _backward \n",
    "        return out\n",
    "    \n",
    "    def backward(self):\n",
    "        topo = []\n",
    "        visited = set()\n",
    "        def build_topo(v):\n",
    "            if v not in visited:\n",
    "                visited.add(v)\n",
    "                for child in v._prev:\n",
    "                    build_topo(child)\n",
    "                topo.append(v)\n",
    "        build_topo(self)\n",
    "        self.grad = 1.0 \n",
    "        for node in reversed(topo):\n",
    "            node._backward()"
   ]
  },
  {
   "cell_type": "code",
   "execution_count": 11,
   "id": "8c17369a",
   "metadata": {},
   "outputs": [
    {
     "name": "stdout",
     "output_type": "stream",
     "text": [
      "Value(data=4587)\n",
      "Value(data=4587)\n"
     ]
    }
   ],
   "source": [
    "a = Value(5)\n",
    "print(a + 4582)\n",
    "print(4582 + a)"
   ]
  },
  {
   "cell_type": "code",
   "execution_count": 12,
   "id": "aba93059",
   "metadata": {},
   "outputs": [
    {
     "name": "stdout",
     "output_type": "stream",
     "text": [
      "Value(data=50)\n",
      "Value(data=50)\n"
     ]
    }
   ],
   "source": [
    "a = Value(5)\n",
    "print(a * 10)\n",
    "print(10 * a)"
   ]
  },
  {
   "cell_type": "markdown",
   "id": "aa2a712a",
   "metadata": {},
   "source": [
    "---"
   ]
  },
  {
   "cell_type": "markdown",
   "id": "73433d14",
   "metadata": {},
   "source": [
    "### Understanding the Hyperbolic Tangent (tanh) Function\n",
    "\n",
    "The hyperbolic tangent function, often denoted as \\\\( \\text{tanh}(x) \\\\), is a fundamental component in machine learning, particularly in neural networks. It serves as an activation function, transforming input values into a bounded output range.\n",
    "\n",
    "#### Function Definition:\n",
    "The tanh function is defined mathematically as:\n",
    "\n",
    "\\\\[ \\text{tanh}(x) = \\frac{e^x - e^{-x}}{e^x + e^{-x}} = \\frac{e^{2x} - 1}{e^{2x} + 1}\\\\]\n"
   ]
  },
  {
   "cell_type": "markdown",
   "id": "fce559e8",
   "metadata": {},
   "source": [
    "---"
   ]
  },
  {
   "cell_type": "markdown",
   "id": "d86a25d4",
   "metadata": {},
   "source": [
    "### Updating Value: adding exponentiation using Euler's number e"
   ]
  },
  {
   "cell_type": "code",
   "execution_count": 13,
   "id": "39e0dd0e",
   "metadata": {},
   "outputs": [],
   "source": [
    "class Value:\n",
    "    \n",
    "    def __init__( self, data, _children=(), _operation='', label='' ):\n",
    "        self.data = data\n",
    "        self.grad = 0.0\n",
    "        self._prev = set(_children)\n",
    "        self._op = _operation\n",
    "        self._backward = lambda: None \n",
    "        self.label = label\n",
    "        \n",
    "    def __repr__(self):\n",
    "        return f\"Value(data={self.data})\"\n",
    "    \n",
    "    def __add__(self, otherObj):\n",
    "        otherObj = otherObj if isinstance(otherObj, Value) else Value(otherObj)\n",
    "        out = Value(self.data + otherObj.data, (self, otherObj), '+' )\n",
    "        def _backward():\n",
    "            self.grad += 1.0 * out.grad\n",
    "            otherObj.grad += 1.0 * out.grad\n",
    "        out._backward = _backward \n",
    "        return out\n",
    "    \n",
    "    def __radd__(self, otherObj):\n",
    "        return self+otherObj\n",
    "    \n",
    "    def __mul__(self, otherObj):\n",
    "        otherObj = otherObj if isinstance(otherObj, Value) else Value(otherObj)\n",
    "        out = Value(self.data * otherObj.data, (self, otherObj), '*')\n",
    "        def _backward():\n",
    "            self.grad += otherObj.data * out.grad\n",
    "            otherObj.grad += self.data * out.grad\n",
    "        out._backward = _backward \n",
    "        return out\n",
    "    \n",
    "    def __rmul__(self, otherObj):\n",
    "        return self*otherObj\n",
    "\n",
    "    def tanh(self):\n",
    "        x = self.data\n",
    "        t = (math.exp(2*x) - 1) / (math.exp(2*x) + 1)\n",
    "        out = Value(t, (self, ),'tanh')\n",
    "        def _backward():\n",
    "            self.grad += (1 - t**2) * out.grad\n",
    "        out._backward = _backward \n",
    "        return out\n",
    "    \n",
    "    def exp(self):\n",
    "        x = self.data\n",
    "        out = Value(math.exp(x), (self, ), 'exp')\n",
    "        def _backward():\n",
    "            self.grad += out.data * out.grad\n",
    "        return out\n",
    "        \n",
    "    def backward(self):\n",
    "        topo = []\n",
    "        visited = set()\n",
    "        def build_topo(v):\n",
    "            if v not in visited:\n",
    "                visited.add(v)\n",
    "                for child in v._prev:\n",
    "                    build_topo(child)\n",
    "                topo.append(v)\n",
    "        build_topo(self)\n",
    "        self.grad = 1.0 \n",
    "        for node in reversed(topo):\n",
    "            node._backward()"
   ]
  },
  {
   "cell_type": "code",
   "execution_count": 14,
   "id": "f6f0cb5e",
   "metadata": {},
   "outputs": [],
   "source": [
    "a= Value(2)"
   ]
  },
  {
   "cell_type": "code",
   "execution_count": 15,
   "id": "4ff14a36",
   "metadata": {},
   "outputs": [
    {
     "data": {
      "text/plain": [
       "Value(data=7.38905609893065)"
      ]
     },
     "execution_count": 15,
     "metadata": {},
     "output_type": "execute_result"
    }
   ],
   "source": [
    "a.exp()"
   ]
  },
  {
   "cell_type": "code",
   "execution_count": 16,
   "id": "8758d89e",
   "metadata": {},
   "outputs": [
    {
     "data": {
      "text/plain": [
       "7.3890461584"
      ]
     },
     "execution_count": 16,
     "metadata": {},
     "output_type": "execute_result"
    }
   ],
   "source": [
    "2.71828**2"
   ]
  },
  {
   "cell_type": "code",
   "execution_count": 17,
   "id": "1f224e7e",
   "metadata": {},
   "outputs": [
    {
     "name": "stdout",
     "output_type": "stream",
     "text": [
      "Value(data=2) Value(data=5)\n"
     ]
    }
   ],
   "source": [
    "b = Value(5)\n",
    "print(a, b)"
   ]
  },
  {
   "cell_type": "code",
   "execution_count": 18,
   "id": "66de5795",
   "metadata": {},
   "outputs": [
    {
     "data": {
      "text/plain": [
       "(Value(data=2), Value(data=5))"
      ]
     },
     "execution_count": 18,
     "metadata": {},
     "output_type": "execute_result"
    }
   ],
   "source": [
    "a, b"
   ]
  },
  {
   "cell_type": "markdown",
   "id": "b1fb09df",
   "metadata": {},
   "source": [
    "---\n",
    "---"
   ]
  },
  {
   "cell_type": "markdown",
   "id": "708f3a37",
   "metadata": {},
   "source": [
    "### division of Values"
   ]
  },
  {
   "cell_type": "code",
   "execution_count": 19,
   "id": "f87e6598",
   "metadata": {
    "scrolled": false
   },
   "outputs": [],
   "source": [
    "# a / b\n",
    "\n",
    "# TypeError: unsupported operand type(s) for /: 'Value' and 'Value'"
   ]
  },
  {
   "cell_type": "markdown",
   "id": "fd73e6ee",
   "metadata": {},
   "source": [
    "### all operations are same\n",
    "- a / b\n",
    "- a * (1/b)\n",
    "- a * (b**-1) \n",
    "#### we need power operation `**` and subtraction operation `-` as well \n",
    "- `a - b` is same as `a + (-b)`"
   ]
  },
  {
   "cell_type": "code",
   "execution_count": 20,
   "id": "ab28e34d",
   "metadata": {},
   "outputs": [
    {
     "name": "stdout",
     "output_type": "stream",
     "text": [
      "2.5\n",
      "2.5\n",
      "2.5\n"
     ]
    }
   ],
   "source": [
    "x = 10\n",
    "y = 4\n",
    "\n",
    "print(x/y)\n",
    "print(x* (1/y))\n",
    "print(x * (y)**-1)"
   ]
  },
  {
   "cell_type": "markdown",
   "id": "d3e119c9",
   "metadata": {},
   "source": [
    " "
   ]
  },
  {
   "cell_type": "markdown",
   "id": "fb878386",
   "metadata": {},
   "source": [
    "### Understanding the `assert` Statement in Python\n",
    "\n",
    "The `assert` statement is a powerful tool in Python used to debug code and ensure that certain conditions are met during program execution. It allows you to quickly verify assumptions about your code and catch potential errors early in the development process.\n",
    "\n",
    "#### Syntax:\n",
    "\n",
    "The syntax of the `assert` statement is simple:\n",
    "\n",
    "```python\n",
    "assert condition, message\n",
    "x = 10\n",
    "assert x > 0, \"Value of x must be positive\"\n",
    "\n"
   ]
  },
  {
   "cell_type": "code",
   "execution_count": 21,
   "id": "96dae19d",
   "metadata": {},
   "outputs": [],
   "source": [
    "class Value:\n",
    "    \n",
    "    def __init__( self, data, _children=(), _operation='', label='' ):\n",
    "        self.data = data\n",
    "        self.grad = 0.0\n",
    "        self._prev = set(_children)\n",
    "        self._op = _operation\n",
    "        self._backward = lambda: None \n",
    "        self.label = label\n",
    "        \n",
    "    def __repr__(self):\n",
    "        return f\"Value(data={self.data})\"\n",
    "    \n",
    "    def __add__(self, otherObj):\n",
    "        otherObj = otherObj if isinstance(otherObj, Value) else Value(otherObj)\n",
    "        out = Value(self.data + otherObj.data, (self, otherObj), '+' )\n",
    "        def _backward():\n",
    "            self.grad += 1.0 * out.grad\n",
    "            otherObj.grad += 1.0 * out.grad\n",
    "        out._backward = _backward \n",
    "        return out\n",
    "    \n",
    "    def __radd__(self, otherObj):\n",
    "        return self+otherObj\n",
    "    \n",
    "    # -self\n",
    "    def __neg__(self): \n",
    "        # here we are using multiplication method for subtraction\n",
    "        return self * (-1)\n",
    "    \n",
    "    # self - otherObj\n",
    "    def __sub__(self, otherObj):\n",
    "        # here we are using addition and negation method for subtraction\n",
    "        return self + (-otherObj)\n",
    "    \n",
    "    def __mul__(self, otherObj):\n",
    "        otherObj = otherObj if isinstance(otherObj, Value) else Value(otherObj)\n",
    "        out = Value(self.data * otherObj.data, (self, otherObj), '*')\n",
    "        def _backward():\n",
    "            self.grad += otherObj.data * out.grad\n",
    "            otherObj.grad += self.data * out.grad\n",
    "        out._backward = _backward \n",
    "        return out\n",
    "    \n",
    "    # otherObj * self\n",
    "    def __rmul__(self, otherObj): \n",
    "        return self*otherObj\n",
    "    \n",
    "    # self/otherObj\n",
    "    def __truediv__(self, otherObj): \n",
    "        return self * (otherObj**(-1))\n",
    "    \n",
    "    # self**otherObj\n",
    "    def __pow__(self, otherObj): \n",
    "        assert isinstance(otherObj, (int, float)), \"only supporting int/float powers for now\"\n",
    "        out = Value(self.data ** otherObj, (self, ), f\"**{otherObj}\")\n",
    "        def _backward():\n",
    "             self.grad += (otherObj * self.data**(otherObj-1)) * out.grad\n",
    "        out._backward = _backward \n",
    "        return out\n",
    "    \n",
    "    def tanh(self):\n",
    "        x = self.data\n",
    "        t = (math.exp(2*x) - 1) / (math.exp(2*x) + 1)\n",
    "        out = Value(t, (self, ),'tanh')\n",
    "        def _backward():\n",
    "            self.grad += (1 - t**2) * out.grad\n",
    "        out._backward = _backward \n",
    "        return out\n",
    "    \n",
    "    def exp(self):\n",
    "        x = self.data\n",
    "        out = Value(math.exp(x), (self, ), 'exp')\n",
    "        def _backward():\n",
    "            self.grad += out.data * out.grad\n",
    "        out._backward = _backward \n",
    "        return out\n",
    "        \n",
    "    def backward(self):\n",
    "        topo = []\n",
    "        visited = set()\n",
    "        def build_topo(v):\n",
    "            if v not in visited:\n",
    "                visited.add(v)\n",
    "                for child in v._prev:\n",
    "                    build_topo(child)\n",
    "                topo.append(v)\n",
    "        build_topo(self)\n",
    "        self.grad = 1.0 \n",
    "        for node in reversed(topo):\n",
    "            node._backward()"
   ]
  },
  {
   "cell_type": "code",
   "execution_count": 22,
   "id": "ebb0d6ca",
   "metadata": {},
   "outputs": [
    {
     "name": "stdout",
     "output_type": "stream",
     "text": [
      "Value(data=0.5)\n"
     ]
    }
   ],
   "source": [
    "a = Value(2.0)\n",
    "b = Value(4.0)\n",
    "print(a/b)"
   ]
  },
  {
   "cell_type": "code",
   "execution_count": 23,
   "id": "fb2dff5f",
   "metadata": {},
   "outputs": [
    {
     "name": "stdout",
     "output_type": "stream",
     "text": [
      "Value(data=0.5)\n"
     ]
    }
   ],
   "source": [
    "print(a*(b**-1))"
   ]
  },
  {
   "cell_type": "code",
   "execution_count": 24,
   "id": "c8f472f9",
   "metadata": {},
   "outputs": [
    {
     "name": "stdout",
     "output_type": "stream",
     "text": [
      "Value(data=2.0)\n",
      "Value(data=-2.0)\n"
     ]
    }
   ],
   "source": [
    "print(a)\n",
    "print(-a)"
   ]
  },
  {
   "cell_type": "code",
   "execution_count": 25,
   "id": "af71019a",
   "metadata": {},
   "outputs": [
    {
     "name": "stdout",
     "output_type": "stream",
     "text": [
      "Value(data=-2.0)\n"
     ]
    }
   ],
   "source": [
    "print(a-b)"
   ]
  },
  {
   "cell_type": "code",
   "execution_count": null,
   "id": "a3be6272",
   "metadata": {},
   "outputs": [],
   "source": []
  },
  {
   "cell_type": "code",
   "execution_count": 26,
   "id": "c5649eca",
   "metadata": {},
   "outputs": [
    {
     "data": {
      "image/svg+xml": [
       "<?xml version=\"1.0\" encoding=\"UTF-8\" standalone=\"no\"?>\n",
       "<!DOCTYPE svg PUBLIC \"-//W3C//DTD SVG 1.1//EN\"\n",
       " \"http://www.w3.org/Graphics/SVG/1.1/DTD/svg11.dtd\">\n",
       "<!-- Generated by graphviz version 10.0.1 (20240210.2158)\n",
       " -->\n",
       "<!-- Pages: 1 -->\n",
       "<svg width=\"1575pt\" height=\"210pt\"\n",
       " viewBox=\"0.00 0.00 1574.75 210.00\" xmlns=\"http://www.w3.org/2000/svg\" xmlns:xlink=\"http://www.w3.org/1999/xlink\">\n",
       "<g id=\"graph0\" class=\"graph\" transform=\"scale(1 1) rotate(0) translate(4 206)\">\n",
       "<polygon fill=\"white\" stroke=\"none\" points=\"-4,4 -4,-206 1570.75,-206 1570.75,4 -4,4\"/>\n",
       "<!-- 2161341978160 -->\n",
       "<g id=\"node1\" class=\"node\">\n",
       "<title>2161341978160</title>\n",
       "<polygon fill=\"none\" stroke=\"black\" points=\"1.5,-165.5 1.5,-201.5 198,-201.5 198,-165.5 1.5,-165.5\"/>\n",
       "<text text-anchor=\"middle\" x=\"16.25\" y=\"-178.2\" font-family=\"Times New Roman,serif\" font-size=\"14.00\">x1</text>\n",
       "<polyline fill=\"none\" stroke=\"black\" points=\"31,-165.75 31,-201.5\"/>\n",
       "<text text-anchor=\"middle\" x=\"71.25\" y=\"-178.2\" font-family=\"Times New Roman,serif\" font-size=\"14.00\">data 2.0000</text>\n",
       "<polyline fill=\"none\" stroke=\"black\" points=\"111.5,-165.75 111.5,-201.5\"/>\n",
       "<text text-anchor=\"middle\" x=\"154.75\" y=\"-178.2\" font-family=\"Times New Roman,serif\" font-size=\"14.00\">grad &#45;1.5000</text>\n",
       "</g>\n",
       "<!-- 2161341986032* -->\n",
       "<g id=\"node10\" class=\"node\">\n",
       "<title>2161341986032*</title>\n",
       "<ellipse fill=\"none\" stroke=\"black\" cx=\"262.5\" cy=\"-128.5\" rx=\"27\" ry=\"18\"/>\n",
       "<text text-anchor=\"middle\" x=\"262.5\" y=\"-123.08\" font-family=\"Times New Roman,serif\" font-size=\"14.00\">*</text>\n",
       "</g>\n",
       "<!-- 2161341978160&#45;&gt;2161341986032* -->\n",
       "<g id=\"edge14\" class=\"edge\">\n",
       "<title>2161341978160&#45;&gt;2161341986032*</title>\n",
       "<path fill=\"none\" stroke=\"black\" d=\"M173.43,-165.03C182.28,-162.37 191.14,-159.51 199.5,-156.5 209.59,-152.87 220.33,-148.29 229.98,-143.89\"/>\n",
       "<polygon fill=\"black\" stroke=\"black\" points=\"231.37,-147.1 238.95,-139.7 228.41,-140.76 231.37,-147.1\"/>\n",
       "</g>\n",
       "<!-- 2161341986368 -->\n",
       "<g id=\"node2\" class=\"node\">\n",
       "<title>2161341986368</title>\n",
       "<polygon fill=\"none\" stroke=\"black\" points=\"2.25,-55.5 2.25,-91.5 197.25,-91.5 197.25,-55.5 2.25,-55.5\"/>\n",
       "<text text-anchor=\"middle\" x=\"18.5\" y=\"-68.2\" font-family=\"Times New Roman,serif\" font-size=\"14.00\">w2</text>\n",
       "<polyline fill=\"none\" stroke=\"black\" points=\"34.75,-55.75 34.75,-91.5\"/>\n",
       "<text text-anchor=\"middle\" x=\"75\" y=\"-68.2\" font-family=\"Times New Roman,serif\" font-size=\"14.00\">data 1.0000</text>\n",
       "<polyline fill=\"none\" stroke=\"black\" points=\"115.25,-55.75 115.25,-91.5\"/>\n",
       "<text text-anchor=\"middle\" x=\"156.25\" y=\"-68.2\" font-family=\"Times New Roman,serif\" font-size=\"14.00\">grad 0.0000</text>\n",
       "</g>\n",
       "<!-- 2161342418416* -->\n",
       "<g id=\"node15\" class=\"node\">\n",
       "<title>2161342418416*</title>\n",
       "<ellipse fill=\"none\" stroke=\"black\" cx=\"262.5\" cy=\"-73.5\" rx=\"27\" ry=\"18\"/>\n",
       "<text text-anchor=\"middle\" x=\"262.5\" y=\"-68.08\" font-family=\"Times New Roman,serif\" font-size=\"14.00\">*</text>\n",
       "</g>\n",
       "<!-- 2161341986368&#45;&gt;2161342418416* -->\n",
       "<g id=\"edge6\" class=\"edge\">\n",
       "<title>2161341986368&#45;&gt;2161342418416*</title>\n",
       "<path fill=\"none\" stroke=\"black\" d=\"M197.51,-73.5C206.8,-73.5 215.79,-73.5 223.94,-73.5\"/>\n",
       "<polygon fill=\"black\" stroke=\"black\" points=\"223.72,-77 233.72,-73.5 223.72,-70 223.72,-77\"/>\n",
       "</g>\n",
       "<!-- 2161341985360 -->\n",
       "<g id=\"node3\" class=\"node\">\n",
       "<title>2161341985360</title>\n",
       "<polygon fill=\"none\" stroke=\"black\" points=\"0,-110.5 0,-146.5 199.5,-146.5 199.5,-110.5 0,-110.5\"/>\n",
       "<text text-anchor=\"middle\" x=\"16.25\" y=\"-123.2\" font-family=\"Times New Roman,serif\" font-size=\"14.00\">w1</text>\n",
       "<polyline fill=\"none\" stroke=\"black\" points=\"32.5,-110.75 32.5,-146.5\"/>\n",
       "<text text-anchor=\"middle\" x=\"75\" y=\"-123.2\" font-family=\"Times New Roman,serif\" font-size=\"14.00\">data &#45;3.0000</text>\n",
       "<polyline fill=\"none\" stroke=\"black\" points=\"117.5,-110.75 117.5,-146.5\"/>\n",
       "<text text-anchor=\"middle\" x=\"158.5\" y=\"-123.2\" font-family=\"Times New Roman,serif\" font-size=\"14.00\">grad 1.0000</text>\n",
       "</g>\n",
       "<!-- 2161341985360&#45;&gt;2161341986032* -->\n",
       "<g id=\"edge10\" class=\"edge\">\n",
       "<title>2161341985360&#45;&gt;2161341986032*</title>\n",
       "<path fill=\"none\" stroke=\"black\" d=\"M199.81,-128.5C208.19,-128.5 216.28,-128.5 223.69,-128.5\"/>\n",
       "<polygon fill=\"black\" stroke=\"black\" points=\"223.58,-132 233.58,-128.5 223.58,-125 223.58,-132\"/>\n",
       "</g>\n",
       "<!-- 2161342422112 -->\n",
       "<g id=\"node4\" class=\"node\">\n",
       "<title>2161342422112</title>\n",
       "<polygon fill=\"none\" stroke=\"black\" points=\"671.25,-82.5 671.25,-118.5 943.5,-118.5 943.5,-82.5 671.25,-82.5\"/>\n",
       "<text text-anchor=\"middle\" x=\"723.88\" y=\"-95.2\" font-family=\"Times New Roman,serif\" font-size=\"14.00\">x1*w1 + x2*w2</text>\n",
       "<polyline fill=\"none\" stroke=\"black\" points=\"776.5,-82.75 776.5,-118.5\"/>\n",
       "<text text-anchor=\"middle\" x=\"819\" y=\"-95.2\" font-family=\"Times New Roman,serif\" font-size=\"14.00\">data &#45;6.0000</text>\n",
       "<polyline fill=\"none\" stroke=\"black\" points=\"861.5,-82.75 861.5,-118.5\"/>\n",
       "<text text-anchor=\"middle\" x=\"902.5\" y=\"-95.2\" font-family=\"Times New Roman,serif\" font-size=\"14.00\">grad 0.5000</text>\n",
       "</g>\n",
       "<!-- 2161342428496+ -->\n",
       "<g id=\"node12\" class=\"node\">\n",
       "<title>2161342428496+</title>\n",
       "<ellipse fill=\"none\" stroke=\"black\" cx=\"1006.5\" cy=\"-72.5\" rx=\"27\" ry=\"18\"/>\n",
       "<text text-anchor=\"middle\" x=\"1006.5\" y=\"-67.08\" font-family=\"Times New Roman,serif\" font-size=\"14.00\">+</text>\n",
       "</g>\n",
       "<!-- 2161342422112&#45;&gt;2161342428496+ -->\n",
       "<g id=\"edge13\" class=\"edge\">\n",
       "<title>2161342422112&#45;&gt;2161342428496+</title>\n",
       "<path fill=\"none\" stroke=\"black\" d=\"M938.49,-82.02C949.28,-80.49 959.5,-79.03 968.57,-77.75\"/>\n",
       "<polygon fill=\"black\" stroke=\"black\" points=\"968.86,-81.24 978.27,-76.37 967.87,-74.31 968.86,-81.24\"/>\n",
       "</g>\n",
       "<!-- 2161342422112+ -->\n",
       "<g id=\"node5\" class=\"node\">\n",
       "<title>2161342422112+</title>\n",
       "<ellipse fill=\"none\" stroke=\"black\" cx=\"608.25\" cy=\"-100.5\" rx=\"27\" ry=\"18\"/>\n",
       "<text text-anchor=\"middle\" x=\"608.25\" y=\"-95.08\" font-family=\"Times New Roman,serif\" font-size=\"14.00\">+</text>\n",
       "</g>\n",
       "<!-- 2161342422112+&#45;&gt;2161342422112 -->\n",
       "<g id=\"edge1\" class=\"edge\">\n",
       "<title>2161342422112+&#45;&gt;2161342422112</title>\n",
       "<path fill=\"none\" stroke=\"black\" d=\"M635.43,-100.5C642.57,-100.5 650.85,-100.5 659.84,-100.5\"/>\n",
       "<polygon fill=\"black\" stroke=\"black\" points=\"659.6,-104 669.6,-100.5 659.6,-97 659.6,-104\"/>\n",
       "</g>\n",
       "<!-- 2161341978208 -->\n",
       "<g id=\"node6\" class=\"node\">\n",
       "<title>2161341978208</title>\n",
       "<polygon fill=\"none\" stroke=\"black\" points=\"714.38,-27.5 714.38,-63.5 900.38,-63.5 900.38,-27.5 714.38,-27.5\"/>\n",
       "<text text-anchor=\"middle\" x=\"726.12\" y=\"-40.2\" font-family=\"Times New Roman,serif\" font-size=\"14.00\">b</text>\n",
       "<polyline fill=\"none\" stroke=\"black\" points=\"737.88,-27.75 737.88,-63.5\"/>\n",
       "<text text-anchor=\"middle\" x=\"778.12\" y=\"-40.2\" font-family=\"Times New Roman,serif\" font-size=\"14.00\">data 6.8814</text>\n",
       "<polyline fill=\"none\" stroke=\"black\" points=\"818.38,-27.75 818.38,-63.5\"/>\n",
       "<text text-anchor=\"middle\" x=\"859.38\" y=\"-40.2\" font-family=\"Times New Roman,serif\" font-size=\"14.00\">grad 0.5000</text>\n",
       "</g>\n",
       "<!-- 2161341978208&#45;&gt;2161342428496+ -->\n",
       "<g id=\"edge7\" class=\"edge\">\n",
       "<title>2161341978208&#45;&gt;2161342428496+</title>\n",
       "<path fill=\"none\" stroke=\"black\" d=\"M900.59,-58.13C924.65,-61.43 949.22,-64.79 968.53,-67.44\"/>\n",
       "<polygon fill=\"black\" stroke=\"black\" points=\"967.94,-70.89 978.32,-68.78 968.89,-63.95 967.94,-70.89\"/>\n",
       "</g>\n",
       "<!-- 2161342419568 -->\n",
       "<g id=\"node7\" class=\"node\">\n",
       "<title>2161342419568</title>\n",
       "<polygon fill=\"none\" stroke=\"black\" points=\"1380.75,-54.5 1380.75,-90.5 1566.75,-90.5 1566.75,-54.5 1380.75,-54.5\"/>\n",
       "<text text-anchor=\"middle\" x=\"1392.5\" y=\"-67.2\" font-family=\"Times New Roman,serif\" font-size=\"14.00\">o</text>\n",
       "<polyline fill=\"none\" stroke=\"black\" points=\"1404.25,-54.75 1404.25,-90.5\"/>\n",
       "<text text-anchor=\"middle\" x=\"1444.5\" y=\"-67.2\" font-family=\"Times New Roman,serif\" font-size=\"14.00\">data 0.7071</text>\n",
       "<polyline fill=\"none\" stroke=\"black\" points=\"1484.75,-54.75 1484.75,-90.5\"/>\n",
       "<text text-anchor=\"middle\" x=\"1525.75\" y=\"-67.2\" font-family=\"Times New Roman,serif\" font-size=\"14.00\">grad 1.0000</text>\n",
       "</g>\n",
       "<!-- 2161342419568tanh -->\n",
       "<g id=\"node8\" class=\"node\">\n",
       "<title>2161342419568tanh</title>\n",
       "<ellipse fill=\"none\" stroke=\"black\" cx=\"1317.75\" cy=\"-72.5\" rx=\"27\" ry=\"18\"/>\n",
       "<text text-anchor=\"middle\" x=\"1317.75\" y=\"-67.08\" font-family=\"Times New Roman,serif\" font-size=\"14.00\">tanh</text>\n",
       "</g>\n",
       "<!-- 2161342419568tanh&#45;&gt;2161342419568 -->\n",
       "<g id=\"edge2\" class=\"edge\">\n",
       "<title>2161342419568tanh&#45;&gt;2161342419568</title>\n",
       "<path fill=\"none\" stroke=\"black\" d=\"M1345.22,-72.5C1352.36,-72.5 1360.53,-72.5 1369.21,-72.5\"/>\n",
       "<polygon fill=\"black\" stroke=\"black\" points=\"1368.94,-76 1378.94,-72.5 1368.94,-69 1368.94,-76\"/>\n",
       "</g>\n",
       "<!-- 2161341986032 -->\n",
       "<g id=\"node9\" class=\"node\">\n",
       "<title>2161341986032</title>\n",
       "<polygon fill=\"none\" stroke=\"black\" points=\"325.5,-110.5 325.5,-146.5 545.25,-146.5 545.25,-110.5 325.5,-110.5\"/>\n",
       "<text text-anchor=\"middle\" x=\"351.88\" y=\"-123.2\" font-family=\"Times New Roman,serif\" font-size=\"14.00\">x1*w1</text>\n",
       "<polyline fill=\"none\" stroke=\"black\" points=\"378.25,-110.75 378.25,-146.5\"/>\n",
       "<text text-anchor=\"middle\" x=\"420.75\" y=\"-123.2\" font-family=\"Times New Roman,serif\" font-size=\"14.00\">data &#45;6.0000</text>\n",
       "<polyline fill=\"none\" stroke=\"black\" points=\"463.25,-110.75 463.25,-146.5\"/>\n",
       "<text text-anchor=\"middle\" x=\"504.25\" y=\"-123.2\" font-family=\"Times New Roman,serif\" font-size=\"14.00\">grad 0.5000</text>\n",
       "</g>\n",
       "<!-- 2161341986032&#45;&gt;2161342422112+ -->\n",
       "<g id=\"edge11\" class=\"edge\">\n",
       "<title>2161341986032&#45;&gt;2161342422112+</title>\n",
       "<path fill=\"none\" stroke=\"black\" d=\"M545.56,-110.61C554.32,-109.17 562.71,-107.8 570.34,-106.55\"/>\n",
       "<polygon fill=\"black\" stroke=\"black\" points=\"570.83,-110.02 580.13,-104.94 569.69,-103.11 570.83,-110.02\"/>\n",
       "</g>\n",
       "<!-- 2161341986032*&#45;&gt;2161341986032 -->\n",
       "<g id=\"edge3\" class=\"edge\">\n",
       "<title>2161341986032*&#45;&gt;2161341986032</title>\n",
       "<path fill=\"none\" stroke=\"black\" d=\"M289.82,-128.5C296.93,-128.5 305.11,-128.5 313.89,-128.5\"/>\n",
       "<polygon fill=\"black\" stroke=\"black\" points=\"313.78,-132 323.78,-128.5 313.78,-125 313.78,-132\"/>\n",
       "</g>\n",
       "<!-- 2161342428496 -->\n",
       "<g id=\"node11\" class=\"node\">\n",
       "<title>2161342428496</title>\n",
       "<polygon fill=\"none\" stroke=\"black\" points=\"1069.5,-54.5 1069.5,-90.5 1254.75,-90.5 1254.75,-54.5 1069.5,-54.5\"/>\n",
       "<text text-anchor=\"middle\" x=\"1080.88\" y=\"-67.2\" font-family=\"Times New Roman,serif\" font-size=\"14.00\">n</text>\n",
       "<polyline fill=\"none\" stroke=\"black\" points=\"1092.25,-54.75 1092.25,-90.5\"/>\n",
       "<text text-anchor=\"middle\" x=\"1132.5\" y=\"-67.2\" font-family=\"Times New Roman,serif\" font-size=\"14.00\">data 0.8814</text>\n",
       "<polyline fill=\"none\" stroke=\"black\" points=\"1172.75,-54.75 1172.75,-90.5\"/>\n",
       "<text text-anchor=\"middle\" x=\"1213.75\" y=\"-67.2\" font-family=\"Times New Roman,serif\" font-size=\"14.00\">grad 0.5000</text>\n",
       "</g>\n",
       "<!-- 2161342428496&#45;&gt;2161342419568tanh -->\n",
       "<g id=\"edge9\" class=\"edge\">\n",
       "<title>2161342428496&#45;&gt;2161342419568tanh</title>\n",
       "<path fill=\"none\" stroke=\"black\" d=\"M1255.15,-72.5C1263.52,-72.5 1271.64,-72.5 1279.09,-72.5\"/>\n",
       "<polygon fill=\"black\" stroke=\"black\" points=\"1279.03,-76 1289.03,-72.5 1279.03,-69 1279.03,-76\"/>\n",
       "</g>\n",
       "<!-- 2161342428496+&#45;&gt;2161342428496 -->\n",
       "<g id=\"edge4\" class=\"edge\">\n",
       "<title>2161342428496+&#45;&gt;2161342428496</title>\n",
       "<path fill=\"none\" stroke=\"black\" d=\"M1033.91,-72.5C1040.95,-72.5 1049,-72.5 1057.55,-72.5\"/>\n",
       "<polygon fill=\"black\" stroke=\"black\" points=\"1057.54,-76 1067.54,-72.5 1057.54,-69 1057.54,-76\"/>\n",
       "</g>\n",
       "<!-- 2161341980032 -->\n",
       "<g id=\"node13\" class=\"node\">\n",
       "<title>2161341980032</title>\n",
       "<polygon fill=\"none\" stroke=\"black\" points=\"3.75,-0.5 3.75,-36.5 195.75,-36.5 195.75,-0.5 3.75,-0.5\"/>\n",
       "<text text-anchor=\"middle\" x=\"18.5\" y=\"-13.2\" font-family=\"Times New Roman,serif\" font-size=\"14.00\">x2</text>\n",
       "<polyline fill=\"none\" stroke=\"black\" points=\"33.25,-0.75 33.25,-36.5\"/>\n",
       "<text text-anchor=\"middle\" x=\"73.5\" y=\"-13.2\" font-family=\"Times New Roman,serif\" font-size=\"14.00\">data 0.0000</text>\n",
       "<polyline fill=\"none\" stroke=\"black\" points=\"113.75,-0.75 113.75,-36.5\"/>\n",
       "<text text-anchor=\"middle\" x=\"154.75\" y=\"-13.2\" font-family=\"Times New Roman,serif\" font-size=\"14.00\">grad 0.5000</text>\n",
       "</g>\n",
       "<!-- 2161341980032&#45;&gt;2161342418416* -->\n",
       "<g id=\"edge12\" class=\"edge\">\n",
       "<title>2161341980032&#45;&gt;2161342418416*</title>\n",
       "<path fill=\"none\" stroke=\"black\" d=\"M170.45,-36.99C180.27,-39.97 190.19,-43.17 199.5,-46.5 209.46,-50.06 220.09,-54.46 229.68,-58.67\"/>\n",
       "<polygon fill=\"black\" stroke=\"black\" points=\"228.04,-61.77 238.6,-62.66 230.9,-55.38 228.04,-61.77\"/>\n",
       "</g>\n",
       "<!-- 2161342418416 -->\n",
       "<g id=\"node14\" class=\"node\">\n",
       "<title>2161342418416</title>\n",
       "<polygon fill=\"none\" stroke=\"black\" points=\"327.75,-55.5 327.75,-91.5 543,-91.5 543,-55.5 327.75,-55.5\"/>\n",
       "<text text-anchor=\"middle\" x=\"354.12\" y=\"-68.2\" font-family=\"Times New Roman,serif\" font-size=\"14.00\">x2*w2</text>\n",
       "<polyline fill=\"none\" stroke=\"black\" points=\"380.5,-55.75 380.5,-91.5\"/>\n",
       "<text text-anchor=\"middle\" x=\"420.75\" y=\"-68.2\" font-family=\"Times New Roman,serif\" font-size=\"14.00\">data 0.0000</text>\n",
       "<polyline fill=\"none\" stroke=\"black\" points=\"461,-55.75 461,-91.5\"/>\n",
       "<text text-anchor=\"middle\" x=\"502\" y=\"-68.2\" font-family=\"Times New Roman,serif\" font-size=\"14.00\">grad 0.5000</text>\n",
       "</g>\n",
       "<!-- 2161342418416&#45;&gt;2161342422112+ -->\n",
       "<g id=\"edge8\" class=\"edge\">\n",
       "<title>2161342418416&#45;&gt;2161342422112+</title>\n",
       "<path fill=\"none\" stroke=\"black\" d=\"M543.14,-90.37C552.77,-91.89 562.01,-93.35 570.33,-94.67\"/>\n",
       "<polygon fill=\"black\" stroke=\"black\" points=\"569.51,-98.08 579.94,-96.18 570.61,-91.17 569.51,-98.08\"/>\n",
       "</g>\n",
       "<!-- 2161342418416*&#45;&gt;2161342418416 -->\n",
       "<g id=\"edge5\" class=\"edge\">\n",
       "<title>2161342418416*&#45;&gt;2161342418416</title>\n",
       "<path fill=\"none\" stroke=\"black\" d=\"M289.82,-73.5C297.5,-73.5 306.41,-73.5 315.98,-73.5\"/>\n",
       "<polygon fill=\"black\" stroke=\"black\" points=\"315.97,-77 325.97,-73.5 315.97,-70 315.97,-77\"/>\n",
       "</g>\n",
       "</g>\n",
       "</svg>\n"
      ],
      "text/plain": [
       "<graphviz.graphs.Digraph at 0x1f73a057280>"
      ]
     },
     "execution_count": 26,
     "metadata": {},
     "output_type": "execute_result"
    }
   ],
   "source": [
    "# Inputs\n",
    "x1 = Value(2.0, label=\"x1\")\n",
    "x2 = Value(0.0, label=\"x2\")\n",
    "# Weights\n",
    "w1 = Value(-3.0, label='w1')\n",
    "w2 = Value(1.0, label='w2')\n",
    "# bias of the neuron\n",
    "b = Value(6.8813735870195432, label='b')\n",
    "# x1w1 + x2w2 + b\n",
    "x1w1 = x1*w1; x1w1.label='x1*w1'\n",
    "x2w2 = x2*w2; x2w2.label='x2*w2'\n",
    "x1w1x2w2 = x1w1 + x2w2; x1w1x2w2.label='x1*w1 + x2*w2'\n",
    "n = x1w1x2w2 + b; n.label='n'\n",
    "\n",
    "o = n.tanh(); o.label='o'\n",
    "o.backward()\n",
    "draw_dot(o)"
   ]
  },
  {
   "cell_type": "markdown",
   "id": "c7120dfe",
   "metadata": {},
   "source": [
    "---"
   ]
  },
  {
   "cell_type": "markdown",
   "id": "4500c911",
   "metadata": {},
   "source": [
    "The tanh function is defined mathematically as:\n",
    "\n",
    "\\\\[ \\text{tanh}(x) = \\frac{e^x - e^{-x}}{e^x + e^{-x}} = \\frac{e^{2x} - 1}{e^{2x} + 1}\\\\]"
   ]
  },
  {
   "cell_type": "markdown",
   "id": "4a474f57",
   "metadata": {},
   "source": [
    "---"
   ]
  },
  {
   "cell_type": "code",
   "execution_count": 27,
   "id": "ec2e5481",
   "metadata": {},
   "outputs": [
    {
     "data": {
      "image/svg+xml": [
       "<?xml version=\"1.0\" encoding=\"UTF-8\" standalone=\"no\"?>\n",
       "<!DOCTYPE svg PUBLIC \"-//W3C//DTD SVG 1.1//EN\"\n",
       " \"http://www.w3.org/Graphics/SVG/1.1/DTD/svg11.dtd\">\n",
       "<!-- Generated by graphviz version 10.0.1 (20240210.2158)\n",
       " -->\n",
       "<!-- Pages: 1 -->\n",
       "<svg width=\"2945pt\" height=\"239pt\"\n",
       " viewBox=\"0.00 0.00 2945.00 239.00\" xmlns=\"http://www.w3.org/2000/svg\" xmlns:xlink=\"http://www.w3.org/1999/xlink\">\n",
       "<g id=\"graph0\" class=\"graph\" transform=\"scale(1 1) rotate(0) translate(4 235)\">\n",
       "<polygon fill=\"white\" stroke=\"none\" points=\"-4,4 -4,-235 2941,-235 2941,4 -4,4\"/>\n",
       "<!-- 2161342422016 -->\n",
       "<g id=\"node1\" class=\"node\">\n",
       "<title>2161342422016</title>\n",
       "<polygon fill=\"none\" stroke=\"black\" points=\"0,-194.5 0,-230.5 199.5,-230.5 199.5,-194.5 0,-194.5\"/>\n",
       "<text text-anchor=\"middle\" x=\"16.25\" y=\"-207.2\" font-family=\"Times New Roman,serif\" font-size=\"14.00\">w1</text>\n",
       "<polyline fill=\"none\" stroke=\"black\" points=\"32.5,-194.75 32.5,-230.5\"/>\n",
       "<text text-anchor=\"middle\" x=\"75\" y=\"-207.2\" font-family=\"Times New Roman,serif\" font-size=\"14.00\">data &#45;3.0000</text>\n",
       "<polyline fill=\"none\" stroke=\"black\" points=\"117.5,-194.75 117.5,-230.5\"/>\n",
       "<text text-anchor=\"middle\" x=\"158.5\" y=\"-207.2\" font-family=\"Times New Roman,serif\" font-size=\"14.00\">grad 1.0000</text>\n",
       "</g>\n",
       "<!-- 2161342418656* -->\n",
       "<g id=\"node14\" class=\"node\">\n",
       "<title>2161342418656*</title>\n",
       "<ellipse fill=\"none\" stroke=\"black\" cx=\"262.5\" cy=\"-157.5\" rx=\"27\" ry=\"18\"/>\n",
       "<text text-anchor=\"middle\" x=\"262.5\" y=\"-152.07\" font-family=\"Times New Roman,serif\" font-size=\"14.00\">*</text>\n",
       "</g>\n",
       "<!-- 2161342422016&#45;&gt;2161342418656* -->\n",
       "<g id=\"edge17\" class=\"edge\">\n",
       "<title>2161342422016&#45;&gt;2161342418656*</title>\n",
       "<path fill=\"none\" stroke=\"black\" d=\"M173.43,-194.03C182.28,-191.37 191.14,-188.51 199.5,-185.5 209.59,-181.87 220.33,-177.29 229.98,-172.89\"/>\n",
       "<polygon fill=\"black\" stroke=\"black\" points=\"231.37,-176.1 238.95,-168.7 228.41,-169.76 231.37,-176.1\"/>\n",
       "</g>\n",
       "<!-- 2161342419520 -->\n",
       "<g id=\"node2\" class=\"node\">\n",
       "<title>2161342419520</title>\n",
       "<polygon fill=\"none\" stroke=\"black\" points=\"714.38,-56.5 714.38,-92.5 900.38,-92.5 900.38,-56.5 714.38,-56.5\"/>\n",
       "<text text-anchor=\"middle\" x=\"726.12\" y=\"-69.2\" font-family=\"Times New Roman,serif\" font-size=\"14.00\">b</text>\n",
       "<polyline fill=\"none\" stroke=\"black\" points=\"737.88,-56.75 737.88,-92.5\"/>\n",
       "<text text-anchor=\"middle\" x=\"778.12\" y=\"-69.2\" font-family=\"Times New Roman,serif\" font-size=\"14.00\">data 6.8814</text>\n",
       "<polyline fill=\"none\" stroke=\"black\" points=\"818.38,-56.75 818.38,-92.5\"/>\n",
       "<text text-anchor=\"middle\" x=\"859.38\" y=\"-69.2\" font-family=\"Times New Roman,serif\" font-size=\"14.00\">grad 0.5000</text>\n",
       "</g>\n",
       "<!-- 2161342418272+ -->\n",
       "<g id=\"node23\" class=\"node\">\n",
       "<title>2161342418272+</title>\n",
       "<ellipse fill=\"none\" stroke=\"black\" cx=\"1006.5\" cy=\"-101.5\" rx=\"27\" ry=\"18\"/>\n",
       "<text text-anchor=\"middle\" x=\"1006.5\" y=\"-96.08\" font-family=\"Times New Roman,serif\" font-size=\"14.00\">+</text>\n",
       "</g>\n",
       "<!-- 2161342419520&#45;&gt;2161342418272+ -->\n",
       "<g id=\"edge26\" class=\"edge\">\n",
       "<title>2161342419520&#45;&gt;2161342418272+</title>\n",
       "<path fill=\"none\" stroke=\"black\" d=\"M900.59,-87.13C924.65,-90.43 949.22,-93.79 968.53,-96.44\"/>\n",
       "<polygon fill=\"black\" stroke=\"black\" points=\"967.94,-99.89 978.32,-97.78 968.89,-92.95 967.94,-99.89\"/>\n",
       "</g>\n",
       "<!-- 2161342426192 -->\n",
       "<g id=\"node3\" class=\"node\">\n",
       "<title>2161342426192</title>\n",
       "<polygon fill=\"none\" stroke=\"black\" points=\"2.25,-84.5 2.25,-120.5 197.25,-120.5 197.25,-84.5 2.25,-84.5\"/>\n",
       "<text text-anchor=\"middle\" x=\"18.5\" y=\"-97.2\" font-family=\"Times New Roman,serif\" font-size=\"14.00\">w2</text>\n",
       "<polyline fill=\"none\" stroke=\"black\" points=\"34.75,-84.75 34.75,-120.5\"/>\n",
       "<text text-anchor=\"middle\" x=\"75\" y=\"-97.2\" font-family=\"Times New Roman,serif\" font-size=\"14.00\">data 1.0000</text>\n",
       "<polyline fill=\"none\" stroke=\"black\" points=\"115.25,-84.75 115.25,-120.5\"/>\n",
       "<text text-anchor=\"middle\" x=\"156.25\" y=\"-97.2\" font-family=\"Times New Roman,serif\" font-size=\"14.00\">grad 0.0000</text>\n",
       "</g>\n",
       "<!-- 2161342426480* -->\n",
       "<g id=\"node25\" class=\"node\">\n",
       "<title>2161342426480*</title>\n",
       "<ellipse fill=\"none\" stroke=\"black\" cx=\"262.5\" cy=\"-102.5\" rx=\"27\" ry=\"18\"/>\n",
       "<text text-anchor=\"middle\" x=\"262.5\" y=\"-97.08\" font-family=\"Times New Roman,serif\" font-size=\"14.00\">*</text>\n",
       "</g>\n",
       "<!-- 2161342426192&#45;&gt;2161342426480* -->\n",
       "<g id=\"edge18\" class=\"edge\">\n",
       "<title>2161342426192&#45;&gt;2161342426480*</title>\n",
       "<path fill=\"none\" stroke=\"black\" d=\"M197.51,-102.5C206.8,-102.5 215.79,-102.5 223.94,-102.5\"/>\n",
       "<polygon fill=\"black\" stroke=\"black\" points=\"223.72,-106 233.72,-102.5 223.72,-99 223.72,-106\"/>\n",
       "</g>\n",
       "<!-- 2161342419040 -->\n",
       "<g id=\"node4\" class=\"node\">\n",
       "<title>2161342419040</title>\n",
       "<polygon fill=\"none\" stroke=\"black\" points=\"2442.75,-80.5 2442.75,-116.5 2625,-116.5 2625,-80.5 2442.75,-80.5\"/>\n",
       "<text text-anchor=\"middle\" x=\"2452.62\" y=\"-93.2\" font-family=\"Times New Roman,serif\" font-size=\"14.00\"> </text>\n",
       "<polyline fill=\"none\" stroke=\"black\" points=\"2462.5,-80.75 2462.5,-116.5\"/>\n",
       "<text text-anchor=\"middle\" x=\"2502.75\" y=\"-93.2\" font-family=\"Times New Roman,serif\" font-size=\"14.00\">data 0.1464</text>\n",
       "<polyline fill=\"none\" stroke=\"black\" points=\"2543,-80.75 2543,-116.5\"/>\n",
       "<text text-anchor=\"middle\" x=\"2584\" y=\"-93.2\" font-family=\"Times New Roman,serif\" font-size=\"14.00\">grad 4.8284</text>\n",
       "</g>\n",
       "<!-- 2161342421632* -->\n",
       "<g id=\"node9\" class=\"node\">\n",
       "<title>2161342421632*</title>\n",
       "<ellipse fill=\"none\" stroke=\"black\" cx=\"2688\" cy=\"-72.5\" rx=\"27\" ry=\"18\"/>\n",
       "<text text-anchor=\"middle\" x=\"2688\" y=\"-67.08\" font-family=\"Times New Roman,serif\" font-size=\"14.00\">*</text>\n",
       "</g>\n",
       "<!-- 2161342419040&#45;&gt;2161342421632* -->\n",
       "<g id=\"edge27\" class=\"edge\">\n",
       "<title>2161342419040&#45;&gt;2161342421632*</title>\n",
       "<path fill=\"none\" stroke=\"black\" d=\"M2625.12,-83.08C2633.96,-81.56 2642.53,-80.1 2650.34,-78.77\"/>\n",
       "<polygon fill=\"black\" stroke=\"black\" points=\"2650.78,-82.24 2660.05,-77.11 2649.6,-75.34 2650.78,-82.24\"/>\n",
       "</g>\n",
       "<!-- 2161342419040**&#45;1 -->\n",
       "<g id=\"node5\" class=\"node\">\n",
       "<title>2161342419040**&#45;1</title>\n",
       "<ellipse fill=\"none\" stroke=\"black\" cx=\"2315.62\" cy=\"-100.5\" rx=\"27.11\" ry=\"18\"/>\n",
       "<text text-anchor=\"middle\" x=\"2315.62\" y=\"-95.08\" font-family=\"Times New Roman,serif\" font-size=\"14.00\">**&#45;1</text>\n",
       "</g>\n",
       "<!-- 2161342419040**&#45;1&#45;&gt;2161342419040 -->\n",
       "<g id=\"edge1\" class=\"edge\">\n",
       "<title>2161342419040**&#45;1&#45;&gt;2161342419040</title>\n",
       "<path fill=\"none\" stroke=\"black\" d=\"M2343.14,-100.25C2365.34,-100.05 2398.5,-99.74 2430.92,-99.44\"/>\n",
       "<polygon fill=\"black\" stroke=\"black\" points=\"2430.86,-102.94 2440.83,-99.35 2430.79,-95.94 2430.86,-102.94\"/>\n",
       "</g>\n",
       "<!-- 2161342427248 -->\n",
       "<g id=\"node6\" class=\"node\">\n",
       "<title>2161342427248</title>\n",
       "<polygon fill=\"none\" stroke=\"black\" points=\"1691.25,-55.5 1691.25,-91.5 1873.5,-91.5 1873.5,-55.5 1691.25,-55.5\"/>\n",
       "<text text-anchor=\"middle\" x=\"1701.12\" y=\"-68.2\" font-family=\"Times New Roman,serif\" font-size=\"14.00\"> </text>\n",
       "<polyline fill=\"none\" stroke=\"black\" points=\"1711,-55.75 1711,-91.5\"/>\n",
       "<text text-anchor=\"middle\" x=\"1751.25\" y=\"-68.2\" font-family=\"Times New Roman,serif\" font-size=\"14.00\">data 5.8284</text>\n",
       "<polyline fill=\"none\" stroke=\"black\" points=\"1791.5,-55.75 1791.5,-91.5\"/>\n",
       "<text text-anchor=\"middle\" x=\"1832.5\" y=\"-68.2\" font-family=\"Times New Roman,serif\" font-size=\"14.00\">grad 0.0429</text>\n",
       "</g>\n",
       "<!-- 2161342418512+ -->\n",
       "<g id=\"node11\" class=\"node\">\n",
       "<title>2161342418512+</title>\n",
       "<ellipse fill=\"none\" stroke=\"black\" cx=\"1938.75\" cy=\"-100.5\" rx=\"27\" ry=\"18\"/>\n",
       "<text text-anchor=\"middle\" x=\"1938.75\" y=\"-95.08\" font-family=\"Times New Roman,serif\" font-size=\"14.00\">+</text>\n",
       "</g>\n",
       "<!-- 2161342427248&#45;&gt;2161342418512+ -->\n",
       "<g id=\"edge14\" class=\"edge\">\n",
       "<title>2161342427248&#45;&gt;2161342418512+</title>\n",
       "<path fill=\"none\" stroke=\"black\" d=\"M1873.62,-89.28C1883.22,-90.96 1892.54,-92.59 1900.96,-94.07\"/>\n",
       "<polygon fill=\"black\" stroke=\"black\" points=\"1900.27,-97.5 1910.73,-95.77 1901.48,-90.6 1900.27,-97.5\"/>\n",
       "</g>\n",
       "<!-- 2161342426960+ -->\n",
       "<g id=\"node21\" class=\"node\">\n",
       "<title>2161342426960+</title>\n",
       "<ellipse fill=\"none\" stroke=\"black\" cx=\"1938.75\" cy=\"-45.5\" rx=\"27\" ry=\"18\"/>\n",
       "<text text-anchor=\"middle\" x=\"1938.75\" y=\"-40.08\" font-family=\"Times New Roman,serif\" font-size=\"14.00\">+</text>\n",
       "</g>\n",
       "<!-- 2161342427248&#45;&gt;2161342426960+ -->\n",
       "<g id=\"edge28\" class=\"edge\">\n",
       "<title>2161342427248&#45;&gt;2161342426960+</title>\n",
       "<path fill=\"none\" stroke=\"black\" d=\"M1873.62,-57.13C1883.22,-55.39 1892.54,-53.7 1900.96,-52.17\"/>\n",
       "<polygon fill=\"black\" stroke=\"black\" points=\"1901.51,-55.63 1910.73,-50.4 1900.26,-48.74 1901.51,-55.63\"/>\n",
       "</g>\n",
       "<!-- 2161342427248exp -->\n",
       "<g id=\"node7\" class=\"node\">\n",
       "<title>2161342427248exp</title>\n",
       "<ellipse fill=\"none\" stroke=\"black\" cx=\"1626\" cy=\"-73.5\" rx=\"27\" ry=\"18\"/>\n",
       "<text text-anchor=\"middle\" x=\"1626\" y=\"-68.08\" font-family=\"Times New Roman,serif\" font-size=\"14.00\">exp</text>\n",
       "</g>\n",
       "<!-- 2161342427248exp&#45;&gt;2161342427248 -->\n",
       "<g id=\"edge2\" class=\"edge\">\n",
       "<title>2161342427248exp&#45;&gt;2161342427248</title>\n",
       "<path fill=\"none\" stroke=\"black\" d=\"M1653.19,-73.5C1660.92,-73.5 1669.88,-73.5 1679.41,-73.5\"/>\n",
       "<polygon fill=\"black\" stroke=\"black\" points=\"1679.3,-77 1689.3,-73.5 1679.3,-70 1679.3,-77\"/>\n",
       "</g>\n",
       "<!-- 2161342421632 -->\n",
       "<g id=\"node8\" class=\"node\">\n",
       "<title>2161342421632</title>\n",
       "<polygon fill=\"none\" stroke=\"black\" points=\"2751,-54.5 2751,-90.5 2937,-90.5 2937,-54.5 2751,-54.5\"/>\n",
       "<text text-anchor=\"middle\" x=\"2762.75\" y=\"-67.2\" font-family=\"Times New Roman,serif\" font-size=\"14.00\">o</text>\n",
       "<polyline fill=\"none\" stroke=\"black\" points=\"2774.5,-54.75 2774.5,-90.5\"/>\n",
       "<text text-anchor=\"middle\" x=\"2814.75\" y=\"-67.2\" font-family=\"Times New Roman,serif\" font-size=\"14.00\">data 0.7071</text>\n",
       "<polyline fill=\"none\" stroke=\"black\" points=\"2855,-54.75 2855,-90.5\"/>\n",
       "<text text-anchor=\"middle\" x=\"2896\" y=\"-67.2\" font-family=\"Times New Roman,serif\" font-size=\"14.00\">grad 1.0000</text>\n",
       "</g>\n",
       "<!-- 2161342421632*&#45;&gt;2161342421632 -->\n",
       "<g id=\"edge3\" class=\"edge\">\n",
       "<title>2161342421632*&#45;&gt;2161342421632</title>\n",
       "<path fill=\"none\" stroke=\"black\" d=\"M2715.47,-72.5C2722.61,-72.5 2730.78,-72.5 2739.46,-72.5\"/>\n",
       "<polygon fill=\"black\" stroke=\"black\" points=\"2739.19,-76 2749.19,-72.5 2739.19,-69 2739.19,-76\"/>\n",
       "</g>\n",
       "<!-- 2161342418512 -->\n",
       "<g id=\"node10\" class=\"node\">\n",
       "<title>2161342418512</title>\n",
       "<polygon fill=\"none\" stroke=\"black\" points=\"2001.75,-82.5 2001.75,-118.5 2188.5,-118.5 2188.5,-82.5 2001.75,-82.5\"/>\n",
       "<text text-anchor=\"middle\" x=\"2011.62\" y=\"-95.2\" font-family=\"Times New Roman,serif\" font-size=\"14.00\"> </text>\n",
       "<polyline fill=\"none\" stroke=\"black\" points=\"2021.5,-82.75 2021.5,-118.5\"/>\n",
       "<text text-anchor=\"middle\" x=\"2061.75\" y=\"-95.2\" font-family=\"Times New Roman,serif\" font-size=\"14.00\">data 6.8284</text>\n",
       "<polyline fill=\"none\" stroke=\"black\" points=\"2102,-82.75 2102,-118.5\"/>\n",
       "<text text-anchor=\"middle\" x=\"2145.25\" y=\"-95.2\" font-family=\"Times New Roman,serif\" font-size=\"14.00\">grad &#45;0.1036</text>\n",
       "</g>\n",
       "<!-- 2161342418512&#45;&gt;2161342419040**&#45;1 -->\n",
       "<g id=\"edge25\" class=\"edge\">\n",
       "<title>2161342418512&#45;&gt;2161342419040**&#45;1</title>\n",
       "<path fill=\"none\" stroke=\"black\" d=\"M2188.79,-100.5C2219.78,-100.5 2252.58,-100.5 2276.93,-100.5\"/>\n",
       "<polygon fill=\"black\" stroke=\"black\" points=\"2276.64,-104 2286.64,-100.5 2276.64,-97 2276.64,-104\"/>\n",
       "</g>\n",
       "<!-- 2161342418512+&#45;&gt;2161342418512 -->\n",
       "<g id=\"edge4\" class=\"edge\">\n",
       "<title>2161342418512+&#45;&gt;2161342418512</title>\n",
       "<path fill=\"none\" stroke=\"black\" d=\"M1965.94,-100.5C1973.07,-100.5 1981.27,-100.5 1989.98,-100.5\"/>\n",
       "<polygon fill=\"black\" stroke=\"black\" points=\"1989.75,-104 1999.75,-100.5 1989.75,-97 1989.75,-104\"/>\n",
       "</g>\n",
       "<!-- 2161342425760 -->\n",
       "<g id=\"node12\" class=\"node\">\n",
       "<title>2161342425760</title>\n",
       "<polygon fill=\"none\" stroke=\"black\" points=\"1.5,-139.5 1.5,-175.5 198,-175.5 198,-139.5 1.5,-139.5\"/>\n",
       "<text text-anchor=\"middle\" x=\"16.25\" y=\"-152.2\" font-family=\"Times New Roman,serif\" font-size=\"14.00\">x1</text>\n",
       "<polyline fill=\"none\" stroke=\"black\" points=\"31,-139.75 31,-175.5\"/>\n",
       "<text text-anchor=\"middle\" x=\"71.25\" y=\"-152.2\" font-family=\"Times New Roman,serif\" font-size=\"14.00\">data 2.0000</text>\n",
       "<polyline fill=\"none\" stroke=\"black\" points=\"111.5,-139.75 111.5,-175.5\"/>\n",
       "<text text-anchor=\"middle\" x=\"154.75\" y=\"-152.2\" font-family=\"Times New Roman,serif\" font-size=\"14.00\">grad &#45;1.5000</text>\n",
       "</g>\n",
       "<!-- 2161342425760&#45;&gt;2161342418656* -->\n",
       "<g id=\"edge11\" class=\"edge\">\n",
       "<title>2161342425760&#45;&gt;2161342418656*</title>\n",
       "<path fill=\"none\" stroke=\"black\" d=\"M198.43,-157.5C207.33,-157.5 215.94,-157.5 223.79,-157.5\"/>\n",
       "<polygon fill=\"black\" stroke=\"black\" points=\"223.53,-161 233.53,-157.5 223.53,-154 223.53,-161\"/>\n",
       "</g>\n",
       "<!-- 2161342418656 -->\n",
       "<g id=\"node13\" class=\"node\">\n",
       "<title>2161342418656</title>\n",
       "<polygon fill=\"none\" stroke=\"black\" points=\"325.5,-139.5 325.5,-175.5 545.25,-175.5 545.25,-139.5 325.5,-139.5\"/>\n",
       "<text text-anchor=\"middle\" x=\"351.88\" y=\"-152.2\" font-family=\"Times New Roman,serif\" font-size=\"14.00\">x1*w1</text>\n",
       "<polyline fill=\"none\" stroke=\"black\" points=\"378.25,-139.75 378.25,-175.5\"/>\n",
       "<text text-anchor=\"middle\" x=\"420.75\" y=\"-152.2\" font-family=\"Times New Roman,serif\" font-size=\"14.00\">data &#45;6.0000</text>\n",
       "<polyline fill=\"none\" stroke=\"black\" points=\"463.25,-139.75 463.25,-175.5\"/>\n",
       "<text text-anchor=\"middle\" x=\"504.25\" y=\"-152.2\" font-family=\"Times New Roman,serif\" font-size=\"14.00\">grad 0.5000</text>\n",
       "</g>\n",
       "<!-- 2161342415104+ -->\n",
       "<g id=\"node18\" class=\"node\">\n",
       "<title>2161342415104+</title>\n",
       "<ellipse fill=\"none\" stroke=\"black\" cx=\"608.25\" cy=\"-129.5\" rx=\"27\" ry=\"18\"/>\n",
       "<text text-anchor=\"middle\" x=\"608.25\" y=\"-124.08\" font-family=\"Times New Roman,serif\" font-size=\"14.00\">+</text>\n",
       "</g>\n",
       "<!-- 2161342418656&#45;&gt;2161342415104+ -->\n",
       "<g id=\"edge21\" class=\"edge\">\n",
       "<title>2161342418656&#45;&gt;2161342415104+</title>\n",
       "<path fill=\"none\" stroke=\"black\" d=\"M545.56,-139.61C554.32,-138.17 562.71,-136.8 570.34,-135.55\"/>\n",
       "<polygon fill=\"black\" stroke=\"black\" points=\"570.83,-139.02 580.13,-133.94 569.69,-132.11 570.83,-139.02\"/>\n",
       "</g>\n",
       "<!-- 2161342418656*&#45;&gt;2161342418656 -->\n",
       "<g id=\"edge5\" class=\"edge\">\n",
       "<title>2161342418656*&#45;&gt;2161342418656</title>\n",
       "<path fill=\"none\" stroke=\"black\" d=\"M289.82,-157.5C296.93,-157.5 305.11,-157.5 313.89,-157.5\"/>\n",
       "<polygon fill=\"black\" stroke=\"black\" points=\"313.78,-161 323.78,-157.5 313.78,-154 313.78,-161\"/>\n",
       "</g>\n",
       "<!-- 2161342427392 -->\n",
       "<g id=\"node15\" class=\"node\">\n",
       "<title>2161342427392</title>\n",
       "<polygon fill=\"none\" stroke=\"black\" points=\"1380.75,-55.5 1380.75,-91.5 1563,-91.5 1563,-55.5 1380.75,-55.5\"/>\n",
       "<text text-anchor=\"middle\" x=\"1390.62\" y=\"-68.2\" font-family=\"Times New Roman,serif\" font-size=\"14.00\"> </text>\n",
       "<polyline fill=\"none\" stroke=\"black\" points=\"1400.5,-55.75 1400.5,-91.5\"/>\n",
       "<text text-anchor=\"middle\" x=\"1440.75\" y=\"-68.2\" font-family=\"Times New Roman,serif\" font-size=\"14.00\">data 1.7627</text>\n",
       "<polyline fill=\"none\" stroke=\"black\" points=\"1481,-55.75 1481,-91.5\"/>\n",
       "<text text-anchor=\"middle\" x=\"1522\" y=\"-68.2\" font-family=\"Times New Roman,serif\" font-size=\"14.00\">grad 0.2500</text>\n",
       "</g>\n",
       "<!-- 2161342427392&#45;&gt;2161342427248exp -->\n",
       "<g id=\"edge16\" class=\"edge\">\n",
       "<title>2161342427392&#45;&gt;2161342427248exp</title>\n",
       "<path fill=\"none\" stroke=\"black\" d=\"M1563.12,-73.5C1571.51,-73.5 1579.65,-73.5 1587.12,-73.5\"/>\n",
       "<polygon fill=\"black\" stroke=\"black\" points=\"1587.12,-77 1597.12,-73.5 1587.12,-70 1587.12,-77\"/>\n",
       "</g>\n",
       "<!-- 2161342427392* -->\n",
       "<g id=\"node16\" class=\"node\">\n",
       "<title>2161342427392*</title>\n",
       "<ellipse fill=\"none\" stroke=\"black\" cx=\"1317.75\" cy=\"-73.5\" rx=\"27\" ry=\"18\"/>\n",
       "<text text-anchor=\"middle\" x=\"1317.75\" y=\"-68.08\" font-family=\"Times New Roman,serif\" font-size=\"14.00\">*</text>\n",
       "</g>\n",
       "<!-- 2161342427392*&#45;&gt;2161342427392 -->\n",
       "<g id=\"edge6\" class=\"edge\">\n",
       "<title>2161342427392*&#45;&gt;2161342427392</title>\n",
       "<path fill=\"none\" stroke=\"black\" d=\"M1345.25,-73.5C1352.29,-73.5 1360.34,-73.5 1368.88,-73.5\"/>\n",
       "<polygon fill=\"black\" stroke=\"black\" points=\"1368.84,-77 1378.84,-73.5 1368.84,-70 1368.84,-77\"/>\n",
       "</g>\n",
       "<!-- 2161342415104 -->\n",
       "<g id=\"node17\" class=\"node\">\n",
       "<title>2161342415104</title>\n",
       "<polygon fill=\"none\" stroke=\"black\" points=\"671.25,-111.5 671.25,-147.5 943.5,-147.5 943.5,-111.5 671.25,-111.5\"/>\n",
       "<text text-anchor=\"middle\" x=\"723.88\" y=\"-124.2\" font-family=\"Times New Roman,serif\" font-size=\"14.00\">x1*w1 + x2*w2</text>\n",
       "<polyline fill=\"none\" stroke=\"black\" points=\"776.5,-111.75 776.5,-147.5\"/>\n",
       "<text text-anchor=\"middle\" x=\"819\" y=\"-124.2\" font-family=\"Times New Roman,serif\" font-size=\"14.00\">data &#45;6.0000</text>\n",
       "<polyline fill=\"none\" stroke=\"black\" points=\"861.5,-111.75 861.5,-147.5\"/>\n",
       "<text text-anchor=\"middle\" x=\"902.5\" y=\"-124.2\" font-family=\"Times New Roman,serif\" font-size=\"14.00\">grad 0.5000</text>\n",
       "</g>\n",
       "<!-- 2161342415104&#45;&gt;2161342418272+ -->\n",
       "<g id=\"edge23\" class=\"edge\">\n",
       "<title>2161342415104&#45;&gt;2161342418272+</title>\n",
       "<path fill=\"none\" stroke=\"black\" d=\"M938.49,-111.02C949.28,-109.49 959.5,-108.03 968.57,-106.75\"/>\n",
       "<polygon fill=\"black\" stroke=\"black\" points=\"968.86,-110.24 978.27,-105.37 967.87,-103.31 968.86,-110.24\"/>\n",
       "</g>\n",
       "<!-- 2161342415104+&#45;&gt;2161342415104 -->\n",
       "<g id=\"edge7\" class=\"edge\">\n",
       "<title>2161342415104+&#45;&gt;2161342415104</title>\n",
       "<path fill=\"none\" stroke=\"black\" d=\"M635.43,-129.5C642.57,-129.5 650.85,-129.5 659.84,-129.5\"/>\n",
       "<polygon fill=\"black\" stroke=\"black\" points=\"659.6,-133 669.6,-129.5 659.6,-126 659.6,-133\"/>\n",
       "</g>\n",
       "<!-- 2161342423360 -->\n",
       "<g id=\"node19\" class=\"node\">\n",
       "<title>2161342423360</title>\n",
       "<polygon fill=\"none\" stroke=\"black\" points=\"1689,-0.5 1689,-36.5 1875.75,-36.5 1875.75,-0.5 1689,-0.5\"/>\n",
       "<text text-anchor=\"middle\" x=\"1698.88\" y=\"-13.2\" font-family=\"Times New Roman,serif\" font-size=\"14.00\"> </text>\n",
       "<polyline fill=\"none\" stroke=\"black\" points=\"1708.75,-0.75 1708.75,-36.5\"/>\n",
       "<text text-anchor=\"middle\" x=\"1751.25\" y=\"-13.2\" font-family=\"Times New Roman,serif\" font-size=\"14.00\">data &#45;1.0000</text>\n",
       "<polyline fill=\"none\" stroke=\"black\" points=\"1793.75,-0.75 1793.75,-36.5\"/>\n",
       "<text text-anchor=\"middle\" x=\"1834.75\" y=\"-13.2\" font-family=\"Times New Roman,serif\" font-size=\"14.00\">grad 0.1464</text>\n",
       "</g>\n",
       "<!-- 2161342423360&#45;&gt;2161342426960+ -->\n",
       "<g id=\"edge15\" class=\"edge\">\n",
       "<title>2161342423360&#45;&gt;2161342426960+</title>\n",
       "<path fill=\"none\" stroke=\"black\" d=\"M1875.85,-34.67C1884.72,-36.22 1893.31,-37.73 1901.12,-39.09\"/>\n",
       "<polygon fill=\"black\" stroke=\"black\" points=\"1900.38,-42.52 1910.83,-40.79 1901.58,-35.62 1900.38,-42.52\"/>\n",
       "</g>\n",
       "<!-- 2161342426960 -->\n",
       "<g id=\"node20\" class=\"node\">\n",
       "<title>2161342426960</title>\n",
       "<polygon fill=\"none\" stroke=\"black\" points=\"2224.5,-27.5 2224.5,-63.5 2406.75,-63.5 2406.75,-27.5 2224.5,-27.5\"/>\n",
       "<text text-anchor=\"middle\" x=\"2234.38\" y=\"-40.2\" font-family=\"Times New Roman,serif\" font-size=\"14.00\"> </text>\n",
       "<polyline fill=\"none\" stroke=\"black\" points=\"2244.25,-27.75 2244.25,-63.5\"/>\n",
       "<text text-anchor=\"middle\" x=\"2284.5\" y=\"-40.2\" font-family=\"Times New Roman,serif\" font-size=\"14.00\">data 4.8284</text>\n",
       "<polyline fill=\"none\" stroke=\"black\" points=\"2324.75,-27.75 2324.75,-63.5\"/>\n",
       "<text text-anchor=\"middle\" x=\"2365.75\" y=\"-40.2\" font-family=\"Times New Roman,serif\" font-size=\"14.00\">grad 0.1464</text>\n",
       "</g>\n",
       "<!-- 2161342426960&#45;&gt;2161342421632* -->\n",
       "<g id=\"edge19\" class=\"edge\">\n",
       "<title>2161342426960&#45;&gt;2161342421632*</title>\n",
       "<path fill=\"none\" stroke=\"black\" d=\"M2407.23,-52.1C2485,-57.77 2593.21,-65.66 2649.54,-69.77\"/>\n",
       "<polygon fill=\"black\" stroke=\"black\" points=\"2649,-73.24 2659.23,-70.48 2649.51,-66.26 2649,-73.24\"/>\n",
       "</g>\n",
       "<!-- 2161342426960+&#45;&gt;2161342426960 -->\n",
       "<g id=\"edge8\" class=\"edge\">\n",
       "<title>2161342426960+&#45;&gt;2161342426960</title>\n",
       "<path fill=\"none\" stroke=\"black\" d=\"M1966.11,-45.5C2016.54,-45.5 2129.09,-45.5 2212.72,-45.5\"/>\n",
       "<polygon fill=\"black\" stroke=\"black\" points=\"2212.55,-49 2222.55,-45.5 2212.55,-42 2212.55,-49\"/>\n",
       "</g>\n",
       "<!-- 2161342418272 -->\n",
       "<g id=\"node22\" class=\"node\">\n",
       "<title>2161342418272</title>\n",
       "<polygon fill=\"none\" stroke=\"black\" points=\"1069.5,-83.5 1069.5,-119.5 1254.75,-119.5 1254.75,-83.5 1069.5,-83.5\"/>\n",
       "<text text-anchor=\"middle\" x=\"1080.88\" y=\"-96.2\" font-family=\"Times New Roman,serif\" font-size=\"14.00\">n</text>\n",
       "<polyline fill=\"none\" stroke=\"black\" points=\"1092.25,-83.75 1092.25,-119.5\"/>\n",
       "<text text-anchor=\"middle\" x=\"1132.5\" y=\"-96.2\" font-family=\"Times New Roman,serif\" font-size=\"14.00\">data 0.8814</text>\n",
       "<polyline fill=\"none\" stroke=\"black\" points=\"1172.75,-83.75 1172.75,-119.5\"/>\n",
       "<text text-anchor=\"middle\" x=\"1213.75\" y=\"-96.2\" font-family=\"Times New Roman,serif\" font-size=\"14.00\">grad 0.5000</text>\n",
       "</g>\n",
       "<!-- 2161342418272&#45;&gt;2161342427392* -->\n",
       "<g id=\"edge20\" class=\"edge\">\n",
       "<title>2161342418272&#45;&gt;2161342427392*</title>\n",
       "<path fill=\"none\" stroke=\"black\" d=\"M1255.15,-84.73C1263.89,-83.13 1272.36,-81.59 1280.08,-80.18\"/>\n",
       "<polygon fill=\"black\" stroke=\"black\" points=\"1280.45,-83.67 1289.66,-78.44 1279.19,-76.79 1280.45,-83.67\"/>\n",
       "</g>\n",
       "<!-- 2161342418272+&#45;&gt;2161342418272 -->\n",
       "<g id=\"edge9\" class=\"edge\">\n",
       "<title>2161342418272+&#45;&gt;2161342418272</title>\n",
       "<path fill=\"none\" stroke=\"black\" d=\"M1033.91,-101.5C1040.95,-101.5 1049,-101.5 1057.55,-101.5\"/>\n",
       "<polygon fill=\"black\" stroke=\"black\" points=\"1057.54,-105 1067.54,-101.5 1057.54,-98 1057.54,-105\"/>\n",
       "</g>\n",
       "<!-- 2161342426480 -->\n",
       "<g id=\"node24\" class=\"node\">\n",
       "<title>2161342426480</title>\n",
       "<polygon fill=\"none\" stroke=\"black\" points=\"327.75,-84.5 327.75,-120.5 543,-120.5 543,-84.5 327.75,-84.5\"/>\n",
       "<text text-anchor=\"middle\" x=\"354.12\" y=\"-97.2\" font-family=\"Times New Roman,serif\" font-size=\"14.00\">x2*w2</text>\n",
       "<polyline fill=\"none\" stroke=\"black\" points=\"380.5,-84.75 380.5,-120.5\"/>\n",
       "<text text-anchor=\"middle\" x=\"420.75\" y=\"-97.2\" font-family=\"Times New Roman,serif\" font-size=\"14.00\">data 0.0000</text>\n",
       "<polyline fill=\"none\" stroke=\"black\" points=\"461,-84.75 461,-120.5\"/>\n",
       "<text text-anchor=\"middle\" x=\"502\" y=\"-97.2\" font-family=\"Times New Roman,serif\" font-size=\"14.00\">grad 0.5000</text>\n",
       "</g>\n",
       "<!-- 2161342426480&#45;&gt;2161342415104+ -->\n",
       "<g id=\"edge12\" class=\"edge\">\n",
       "<title>2161342426480&#45;&gt;2161342415104+</title>\n",
       "<path fill=\"none\" stroke=\"black\" d=\"M543.14,-119.37C552.77,-120.89 562.01,-122.35 570.33,-123.67\"/>\n",
       "<polygon fill=\"black\" stroke=\"black\" points=\"569.51,-127.08 579.94,-125.18 570.61,-120.17 569.51,-127.08\"/>\n",
       "</g>\n",
       "<!-- 2161342426480*&#45;&gt;2161342426480 -->\n",
       "<g id=\"edge10\" class=\"edge\">\n",
       "<title>2161342426480*&#45;&gt;2161342426480</title>\n",
       "<path fill=\"none\" stroke=\"black\" d=\"M289.82,-102.5C297.5,-102.5 306.41,-102.5 315.98,-102.5\"/>\n",
       "<polygon fill=\"black\" stroke=\"black\" points=\"315.97,-106 325.97,-102.5 315.97,-99 315.97,-106\"/>\n",
       "</g>\n",
       "<!-- 2161342421920 -->\n",
       "<g id=\"node26\" class=\"node\">\n",
       "<title>2161342421920</title>\n",
       "<polygon fill=\"none\" stroke=\"black\" points=\"1071,-28.5 1071,-64.5 1253.25,-64.5 1253.25,-28.5 1071,-28.5\"/>\n",
       "<text text-anchor=\"middle\" x=\"1080.88\" y=\"-41.2\" font-family=\"Times New Roman,serif\" font-size=\"14.00\"> </text>\n",
       "<polyline fill=\"none\" stroke=\"black\" points=\"1090.75,-28.75 1090.75,-64.5\"/>\n",
       "<text text-anchor=\"middle\" x=\"1131\" y=\"-41.2\" font-family=\"Times New Roman,serif\" font-size=\"14.00\">data 2.0000</text>\n",
       "<polyline fill=\"none\" stroke=\"black\" points=\"1171.25,-28.75 1171.25,-64.5\"/>\n",
       "<text text-anchor=\"middle\" x=\"1212.25\" y=\"-41.2\" font-family=\"Times New Roman,serif\" font-size=\"14.00\">grad 0.2203</text>\n",
       "</g>\n",
       "<!-- 2161342421920&#45;&gt;2161342427392* -->\n",
       "<g id=\"edge24\" class=\"edge\">\n",
       "<title>2161342421920&#45;&gt;2161342427392*</title>\n",
       "<path fill=\"none\" stroke=\"black\" d=\"M1253.38,-62.36C1262.68,-64 1271.71,-65.58 1279.9,-67.02\"/>\n",
       "<polygon fill=\"black\" stroke=\"black\" points=\"1279.29,-70.47 1289.75,-68.75 1280.5,-63.58 1279.29,-70.47\"/>\n",
       "</g>\n",
       "<!-- 2161342419904 -->\n",
       "<g id=\"node27\" class=\"node\">\n",
       "<title>2161342419904</title>\n",
       "<polygon fill=\"none\" stroke=\"black\" points=\"3.75,-29.5 3.75,-65.5 195.75,-65.5 195.75,-29.5 3.75,-29.5\"/>\n",
       "<text text-anchor=\"middle\" x=\"18.5\" y=\"-42.2\" font-family=\"Times New Roman,serif\" font-size=\"14.00\">x2</text>\n",
       "<polyline fill=\"none\" stroke=\"black\" points=\"33.25,-29.75 33.25,-65.5\"/>\n",
       "<text text-anchor=\"middle\" x=\"73.5\" y=\"-42.2\" font-family=\"Times New Roman,serif\" font-size=\"14.00\">data 0.0000</text>\n",
       "<polyline fill=\"none\" stroke=\"black\" points=\"113.75,-29.75 113.75,-65.5\"/>\n",
       "<text text-anchor=\"middle\" x=\"154.75\" y=\"-42.2\" font-family=\"Times New Roman,serif\" font-size=\"14.00\">grad 0.5000</text>\n",
       "</g>\n",
       "<!-- 2161342419904&#45;&gt;2161342426480* -->\n",
       "<g id=\"edge22\" class=\"edge\">\n",
       "<title>2161342419904&#45;&gt;2161342426480*</title>\n",
       "<path fill=\"none\" stroke=\"black\" d=\"M170.45,-65.99C180.27,-68.97 190.19,-72.17 199.5,-75.5 209.46,-79.06 220.09,-83.46 229.68,-87.67\"/>\n",
       "<polygon fill=\"black\" stroke=\"black\" points=\"228.04,-90.77 238.6,-91.66 230.9,-84.38 228.04,-90.77\"/>\n",
       "</g>\n",
       "<!-- 2161342421968 -->\n",
       "<g id=\"node28\" class=\"node\">\n",
       "<title>2161342421968</title>\n",
       "<polygon fill=\"none\" stroke=\"black\" points=\"1689,-110.5 1689,-146.5 1875.75,-146.5 1875.75,-110.5 1689,-110.5\"/>\n",
       "<text text-anchor=\"middle\" x=\"1698.88\" y=\"-123.2\" font-family=\"Times New Roman,serif\" font-size=\"14.00\"> </text>\n",
       "<polyline fill=\"none\" stroke=\"black\" points=\"1708.75,-110.75 1708.75,-146.5\"/>\n",
       "<text text-anchor=\"middle\" x=\"1749\" y=\"-123.2\" font-family=\"Times New Roman,serif\" font-size=\"14.00\">data 1.0000</text>\n",
       "<polyline fill=\"none\" stroke=\"black\" points=\"1789.25,-110.75 1789.25,-146.5\"/>\n",
       "<text text-anchor=\"middle\" x=\"1832.5\" y=\"-123.2\" font-family=\"Times New Roman,serif\" font-size=\"14.00\">grad &#45;0.1036</text>\n",
       "</g>\n",
       "<!-- 2161342421968&#45;&gt;2161342418512+ -->\n",
       "<g id=\"edge13\" class=\"edge\">\n",
       "<title>2161342421968&#45;&gt;2161342418512+</title>\n",
       "<path fill=\"none\" stroke=\"black\" d=\"M1875.85,-111.73C1884.72,-110.12 1893.31,-108.56 1901.12,-107.14\"/>\n",
       "<polygon fill=\"black\" stroke=\"black\" points=\"1901.62,-110.61 1910.83,-105.38 1900.37,-103.72 1901.62,-110.61\"/>\n",
       "</g>\n",
       "</g>\n",
       "</svg>\n"
      ],
      "text/plain": [
       "<graphviz.graphs.Digraph at 0x1f73a0c2770>"
      ]
     },
     "execution_count": 27,
     "metadata": {},
     "output_type": "execute_result"
    }
   ],
   "source": [
    "# Inputs\n",
    "x1 = Value(2.0, label=\"x1\")\n",
    "x2 = Value(0.0, label=\"x2\")\n",
    "# Weights\n",
    "w1 = Value(-3.0, label='w1')\n",
    "w2 = Value(1.0, label='w2')\n",
    "# bias of the neuron\n",
    "b = Value(6.8813735870195432, label='b')\n",
    "# x1w1 + x2w2 + b\n",
    "x1w1 = x1*w1; x1w1.label='x1*w1'\n",
    "x2w2 = x2*w2; x2w2.label='x2*w2'\n",
    "x1w1x2w2 = x1w1 + x2w2; x1w1x2w2.label='x1*w1 + x2*w2'\n",
    "n = x1w1x2w2 + b; n.label='n'\n",
    "\n",
    "# ----------------------\n",
    "e = (2*n).exp()\n",
    "o = (e - 1) / (e + 1)\n",
    "# ----------------------\n",
    "\n",
    "o.label='o'\n",
    "o.backward()\n",
    "draw_dot(o)"
   ]
  },
  {
   "cell_type": "code",
   "execution_count": null,
   "id": "97178b6a",
   "metadata": {},
   "outputs": [],
   "source": []
  },
  {
   "cell_type": "markdown",
   "id": "e75c376d",
   "metadata": {},
   "source": [
    "### Doing the same thing but in PyTorch"
   ]
  },
  {
   "cell_type": "markdown",
   "id": "ca16b514",
   "metadata": {},
   "source": [
    "# PyTorch: Deep Learning Framework\n",
    "\n",
    "PyTorch is an open-source machine learning library primarily developed by Facebook's AI Research lab (FAIR). It provides a flexible and dynamic deep learning framework for building and training neural networks.\n",
    "\n",
    "## Key Features:\n",
    "\n",
    "1. **Tensor Computation**: PyTorch provides multi-dimensional arrays called tensors, similar to NumPy arrays but with additional GPU acceleration support for faster computation. Tensors in PyTorch can be easily manipulated and used for numerical computations.\n",
    "\n",
    "2. **Automatic Differentiation**: PyTorch offers automatic differentiation through its `autograd` package, allowing gradients to be computed automatically for tensor operations. This feature simplifies the process of implementing and training neural networks by automatically calculating gradients for backpropagation.\n",
    "\n",
    "3. **Dynamic Computational Graphs**: Unlike some other deep learning frameworks that use static computational graphs, PyTorch uses dynamic computational graphs. This means that the computational graph is built on-the-fly during execution, allowing for more flexibility and easier debugging.\n",
    "\n",
    "4. **Neural Network Building Blocks**: PyTorch provides a rich set of tools and modules for building neural networks, including layers, activation functions, optimization algorithms, loss functions, and more. It also offers a high-level neural network module called `torch.nn` for building complex architectures with ease.\n",
    "\n",
    "5. **GPU Acceleration**: PyTorch supports seamless integration with GPUs, enabling accelerated training of deep neural networks on compatible hardware. This GPU acceleration significantly speeds up the training process for large-scale models.\n",
    "\n",
    "6. **Community and Ecosystem**: PyTorch has a vibrant community of developers and researchers contributing to its development. It also offers extensive documentation, tutorials, and resources, making it accessible to both beginners and experienced practitioners.\n",
    "\n",
    "PyTorch has gained popularity among researchers and practitioners in the machine learning and deep learning communities due to its flexibility, ease of use, and powerful capabilities for building and training neural networks.\n"
   ]
  },
  {
   "cell_type": "code",
   "execution_count": 28,
   "id": "82eb4172",
   "metadata": {},
   "outputs": [],
   "source": [
    "import torch"
   ]
  },
  {
   "cell_type": "code",
   "execution_count": 29,
   "id": "d630912d",
   "metadata": {
    "scrolled": true
   },
   "outputs": [
    {
     "data": {
      "text/plain": [
       "tensor([1.3000])"
      ]
     },
     "execution_count": 29,
     "metadata": {},
     "output_type": "execute_result"
    }
   ],
   "source": [
    "element1 = torch.Tensor([1.3])\n",
    "element1"
   ]
  },
  {
   "cell_type": "code",
   "execution_count": 30,
   "id": "43e9b03a",
   "metadata": {},
   "outputs": [
    {
     "data": {
      "text/plain": [
       "tensor([1.3000])"
      ]
     },
     "execution_count": 30,
     "metadata": {},
     "output_type": "execute_result"
    }
   ],
   "source": [
    "element1.data"
   ]
  },
  {
   "cell_type": "code",
   "execution_count": 31,
   "id": "92b71046",
   "metadata": {},
   "outputs": [
    {
     "data": {
      "text/plain": [
       "1.2999999523162842"
      ]
     },
     "execution_count": 31,
     "metadata": {},
     "output_type": "execute_result"
    }
   ],
   "source": [
    "element1.data.item()"
   ]
  },
  {
   "cell_type": "code",
   "execution_count": null,
   "id": "1b2ec2c9",
   "metadata": {},
   "outputs": [],
   "source": []
  },
  {
   "cell_type": "code",
   "execution_count": 32,
   "id": "100b071a",
   "metadata": {},
   "outputs": [
    {
     "data": {
      "text/plain": [
       "tensor([[1, 2],\n",
       "        [3, 4]])"
      ]
     },
     "execution_count": 32,
     "metadata": {},
     "output_type": "execute_result"
    }
   ],
   "source": [
    "data = [[1, 2],[3, 4]]\n",
    "x_data = torch.tensor(data)\n",
    "x_data"
   ]
  },
  {
   "cell_type": "code",
   "execution_count": 33,
   "id": "5e7ddcaf",
   "metadata": {},
   "outputs": [
    {
     "data": {
      "text/plain": [
       "torch.int64"
      ]
     },
     "execution_count": 33,
     "metadata": {},
     "output_type": "execute_result"
    }
   ],
   "source": [
    "x_data.dtype"
   ]
  },
  {
   "cell_type": "code",
   "execution_count": 34,
   "id": "52837bbe",
   "metadata": {
    "scrolled": true
   },
   "outputs": [
    {
     "data": {
      "text/plain": [
       "tensor([[2, 4],\n",
       "        [6, 8]])"
      ]
     },
     "execution_count": 34,
     "metadata": {},
     "output_type": "execute_result"
    }
   ],
   "source": [
    "x_data + x_data"
   ]
  },
  {
   "cell_type": "code",
   "execution_count": 35,
   "id": "ee2a7835",
   "metadata": {},
   "outputs": [
    {
     "data": {
      "text/plain": [
       "tensor([[ 1,  4],\n",
       "        [ 9, 16]])"
      ]
     },
     "execution_count": 35,
     "metadata": {},
     "output_type": "execute_result"
    }
   ],
   "source": [
    "x_data * x_data "
   ]
  },
  {
   "cell_type": "code",
   "execution_count": 36,
   "id": "b3c1fe3b",
   "metadata": {},
   "outputs": [
    {
     "data": {
      "text/plain": [
       "tensor([[0, 0],\n",
       "        [0, 0]])"
      ]
     },
     "execution_count": 36,
     "metadata": {},
     "output_type": "execute_result"
    }
   ],
   "source": [
    "x_data - x_data "
   ]
  },
  {
   "cell_type": "code",
   "execution_count": 37,
   "id": "dbc3bb34",
   "metadata": {},
   "outputs": [
    {
     "data": {
      "text/plain": [
       "tensor([[1, 2],\n",
       "        [3, 4]])"
      ]
     },
     "execution_count": 37,
     "metadata": {},
     "output_type": "execute_result"
    }
   ],
   "source": [
    "x_data.data"
   ]
  },
  {
   "cell_type": "code",
   "execution_count": null,
   "id": "e11a893d",
   "metadata": {},
   "outputs": [],
   "source": []
  },
  {
   "cell_type": "code",
   "execution_count": 38,
   "id": "401c9643",
   "metadata": {},
   "outputs": [
    {
     "data": {
      "text/plain": [
       "tensor([[[ 1.,  2.,  3.,  4.],\n",
       "         [ 9.,  7.,  8.,  6.]],\n",
       "\n",
       "        [[11., 21., 31., 12.],\n",
       "         [86., 78., 98., 75.]]])"
      ]
     },
     "execution_count": 38,
     "metadata": {},
     "output_type": "execute_result"
    }
   ],
   "source": [
    "y_data = torch.Tensor([[[1,2,3,4],[9,7,8,6]],[[11,21,31,12], [86,78,98,75]]])\n",
    "y_data"
   ]
  },
  {
   "cell_type": "code",
   "execution_count": 39,
   "id": "1ed5ca59",
   "metadata": {
    "scrolled": false
   },
   "outputs": [
    {
     "data": {
      "text/plain": [
       "tensor([[[0., 0., 0., 0.],\n",
       "         [0., 0., 0., 0.]],\n",
       "\n",
       "        [[0., 0., 0., 0.],\n",
       "         [0., 0., 0., 0.]]])"
      ]
     },
     "execution_count": 39,
     "metadata": {},
     "output_type": "execute_result"
    }
   ],
   "source": [
    "y_data - y_data"
   ]
  },
  {
   "cell_type": "code",
   "execution_count": 40,
   "id": "905f2f54",
   "metadata": {},
   "outputs": [
    {
     "data": {
      "text/plain": [
       "tensor([[[  2.,   4.,   6.,   8.],\n",
       "         [ 18.,  14.,  16.,  12.]],\n",
       "\n",
       "        [[ 22.,  42.,  62.,  24.],\n",
       "         [172., 156., 196., 150.]]])"
      ]
     },
     "execution_count": 40,
     "metadata": {},
     "output_type": "execute_result"
    }
   ],
   "source": [
    "y_data + y_data"
   ]
  },
  {
   "cell_type": "code",
   "execution_count": 41,
   "id": "e9713cec",
   "metadata": {
    "scrolled": true
   },
   "outputs": [
    {
     "data": {
      "text/plain": [
       "tensor([[[1.0000e+00, 4.0000e+00, 9.0000e+00, 1.6000e+01],\n",
       "         [8.1000e+01, 4.9000e+01, 6.4000e+01, 3.6000e+01]],\n",
       "\n",
       "        [[1.2100e+02, 4.4100e+02, 9.6100e+02, 1.4400e+02],\n",
       "         [7.3960e+03, 6.0840e+03, 9.6040e+03, 5.6250e+03]]])"
      ]
     },
     "execution_count": 41,
     "metadata": {},
     "output_type": "execute_result"
    }
   ],
   "source": [
    "y_data * y_data"
   ]
  },
  {
   "cell_type": "code",
   "execution_count": 42,
   "id": "35328f2c",
   "metadata": {},
   "outputs": [
    {
     "data": {
      "text/plain": [
       "torch.float32"
      ]
     },
     "execution_count": 42,
     "metadata": {},
     "output_type": "execute_result"
    }
   ],
   "source": [
    "y_data.dtype"
   ]
  },
  {
   "cell_type": "code",
   "execution_count": 43,
   "id": "9e461d91",
   "metadata": {},
   "outputs": [
    {
     "data": {
      "text/plain": [
       "torch.float64"
      ]
     },
     "execution_count": 43,
     "metadata": {},
     "output_type": "execute_result"
    }
   ],
   "source": [
    "y_data.double().dtype"
   ]
  },
  {
   "cell_type": "markdown",
   "id": "fd9a8aac",
   "metadata": {},
   "source": [
    "---\n",
    "---\n",
    "---"
   ]
  },
  {
   "cell_type": "code",
   "execution_count": 44,
   "id": "dd9bdec1",
   "metadata": {},
   "outputs": [
    {
     "name": "stdout",
     "output_type": "stream",
     "text": [
      "0.7071066904050358\n",
      "---------------\n",
      "x2 0.5000001283844369\n",
      "w2 0.0\n",
      "x1 -1.5000003851533106\n",
      "w1 1.0000002567688737\n"
     ]
    }
   ],
   "source": [
    "x1 = torch.Tensor([2.0]).double()                ; x1.requires_grad = True\n",
    "x2 = torch.Tensor([0.0]).double()                ; x2.requires_grad = True\n",
    "w1 = torch.Tensor([-3.0]).double()               ; w1.requires_grad = True\n",
    "w2 = torch.Tensor([1.0]).double()                ; w2.requires_grad = True\n",
    "b  = torch.Tensor([6.8813735870195432]).double() ; b.requires_grad  = True\n",
    "\n",
    "n = x1*w1 + x2*w2 + b\n",
    "o = torch.tanh(n)\n",
    "\n",
    "print(o.data.item())\n",
    "o.backward()\n",
    "\n",
    "\n",
    "print(\"---\"*5)\n",
    "print(\"x2\", x2.grad.item())\n",
    "print(\"w2\", w2.grad.item())\n",
    "print(\"x1\", x1.grad.item())\n",
    "print(\"w1\", w1.grad.item())"
   ]
  },
  {
   "cell_type": "markdown",
   "id": "392104df",
   "metadata": {},
   "source": [
    "Therefore it is proved that our previous gradients were correct"
   ]
  },
  {
   "cell_type": "code",
   "execution_count": 45,
   "id": "deac8c2d",
   "metadata": {},
   "outputs": [
    {
     "name": "stdout",
     "output_type": "stream",
     "text": [
      "tensor([0.7071], dtype=torch.float64, grad_fn=<TanhBackward0>)\n",
      "0.7071066904050358\n"
     ]
    }
   ],
   "source": [
    "print(o)\n",
    "print(o.data.item())"
   ]
  },
  {
   "cell_type": "code",
   "execution_count": 46,
   "id": "2df776ce",
   "metadata": {},
   "outputs": [
    {
     "name": "stdout",
     "output_type": "stream",
     "text": [
      "tensor([-1.5000], dtype=torch.float64)\n",
      "-1.5000003851533106\n"
     ]
    }
   ],
   "source": [
    "print(x1.grad)\n",
    "print(x1.grad.item())"
   ]
  },
  {
   "cell_type": "markdown",
   "id": "63bdf300",
   "metadata": {},
   "source": [
    "---\n",
    "#\n",
    "#\n",
    "---\n",
    "#\n",
    "#\n",
    "---"
   ]
  }
 ],
 "metadata": {
  "kernelspec": {
   "display_name": "Python 3 (ipykernel)",
   "language": "python",
   "name": "python3"
  },
  "language_info": {
   "codemirror_mode": {
    "name": "ipython",
    "version": 3
   },
   "file_extension": ".py",
   "mimetype": "text/x-python",
   "name": "python",
   "nbconvert_exporter": "python",
   "pygments_lexer": "ipython3",
   "version": "3.10.9"
  }
 },
 "nbformat": 4,
 "nbformat_minor": 5
}
